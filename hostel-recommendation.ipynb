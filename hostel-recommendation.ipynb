{
 "cells": [
  {
   "cell_type": "code",
   "execution_count": 33,
   "id": "f9e2c140",
   "metadata": {},
   "outputs": [],
   "source": [
    "import numpy as np"
   ]
  },
  {
   "cell_type": "code",
   "execution_count": 34,
   "id": "8fbe8c53",
   "metadata": {},
   "outputs": [],
   "source": [
    "import pandas as pd"
   ]
  },
  {
   "cell_type": "code",
   "execution_count": 35,
   "id": "ad685c63",
   "metadata": {},
   "outputs": [],
   "source": [
    "hostels = pd.read_csv('HostelFinder.hostels.csv')"
   ]
  },
  {
   "cell_type": "code",
   "execution_count": 36,
   "id": "de682f1e",
   "metadata": {},
   "outputs": [
    {
     "data": {
      "text/html": [
       "<div>\n",
       "<style scoped>\n",
       "    .dataframe tbody tr th:only-of-type {\n",
       "        vertical-align: middle;\n",
       "    }\n",
       "\n",
       "    .dataframe tbody tr th {\n",
       "        vertical-align: top;\n",
       "    }\n",
       "\n",
       "    .dataframe thead th {\n",
       "        text-align: right;\n",
       "    }\n",
       "</style>\n",
       "<table border=\"1\" class=\"dataframe\">\n",
       "  <thead>\n",
       "    <tr style=\"text-align: right;\">\n",
       "      <th></th>\n",
       "      <th>_id</th>\n",
       "      <th>lng</th>\n",
       "      <th>lat</th>\n",
       "      <th>price</th>\n",
       "      <th>title</th>\n",
       "      <th>description</th>\n",
       "      <th>img_collection[0]</th>\n",
       "      <th>img_collection[1]</th>\n",
       "      <th>img_collection[2]</th>\n",
       "      <th>img_collection[3]</th>\n",
       "      <th>...</th>\n",
       "      <th>address</th>\n",
       "      <th>catagory</th>\n",
       "      <th>features</th>\n",
       "      <th>uid</th>\n",
       "      <th>uName</th>\n",
       "      <th>uEmail</th>\n",
       "      <th>uPhone</th>\n",
       "      <th>createdAt</th>\n",
       "      <th>updatedAt</th>\n",
       "      <th>__v</th>\n",
       "    </tr>\n",
       "  </thead>\n",
       "  <tbody>\n",
       "    <tr>\n",
       "      <th>0</th>\n",
       "      <td>64c387aefc06642f2440febe</td>\n",
       "      <td>85.333417</td>\n",
       "      <td>27.703133</td>\n",
       "      <td>10500</td>\n",
       "      <td>Five Star Boys Hostel</td>\n",
       "      <td>Five Star Boys Hostel one of the hostels in Ka...</td>\n",
       "      <td>http://localhost:8000/uploads/2023-07-28T09-18...</td>\n",
       "      <td>NaN</td>\n",
       "      <td>NaN</td>\n",
       "      <td>NaN</td>\n",
       "      <td>...</td>\n",
       "      <td>Maitidevi, Kathmandu, Bagmati, Nepal</td>\n",
       "      <td>Boys hostel</td>\n",
       "      <td>24 hours electricity,Hot and Cold water,Launda...</td>\n",
       "      <td>64bd52dadb1d17cc33ae50f1</td>\n",
       "      <td>dhamisuraj</td>\n",
       "      <td>dhami@gmail.com</td>\n",
       "      <td>9860547079</td>\n",
       "      <td>2023-07-28T09:17:34.719Z</td>\n",
       "      <td>2023-07-28T09:18:00.698Z</td>\n",
       "      <td>1</td>\n",
       "    </tr>\n",
       "  </tbody>\n",
       "</table>\n",
       "<p>1 rows × 21 columns</p>\n",
       "</div>"
      ],
      "text/plain": [
       "                        _id        lng        lat  price  \\\n",
       "0  64c387aefc06642f2440febe  85.333417  27.703133  10500   \n",
       "\n",
       "                   title                                        description  \\\n",
       "0  Five Star Boys Hostel  Five Star Boys Hostel one of the hostels in Ka...   \n",
       "\n",
       "                                   img_collection[0] img_collection[1]  \\\n",
       "0  http://localhost:8000/uploads/2023-07-28T09-18...               NaN   \n",
       "\n",
       "  img_collection[2] img_collection[3]  ...  \\\n",
       "0               NaN               NaN  ...   \n",
       "\n",
       "                                address     catagory  \\\n",
       "0  Maitidevi, Kathmandu, Bagmati, Nepal  Boys hostel   \n",
       "\n",
       "                                            features  \\\n",
       "0  24 hours electricity,Hot and Cold water,Launda...   \n",
       "\n",
       "                        uid       uName           uEmail      uPhone  \\\n",
       "0  64bd52dadb1d17cc33ae50f1  dhamisuraj  dhami@gmail.com  9860547079   \n",
       "\n",
       "                  createdAt                 updatedAt __v  \n",
       "0  2023-07-28T09:17:34.719Z  2023-07-28T09:18:00.698Z   1  \n",
       "\n",
       "[1 rows x 21 columns]"
      ]
     },
     "execution_count": 36,
     "metadata": {},
     "output_type": "execute_result"
    }
   ],
   "source": [
    "hostels.head(1)"
   ]
  },
  {
   "cell_type": "code",
   "execution_count": 37,
   "id": "c6889272",
   "metadata": {},
   "outputs": [
    {
     "name": "stdout",
     "output_type": "stream",
     "text": [
      "Index(['_id', 'lng', 'lat', 'price', 'title', 'description',\n",
      "       'img_collection[0]', 'img_collection[1]', 'img_collection[2]',\n",
      "       'img_collection[3]', 'phone', 'address', 'catagory', 'features', 'uid',\n",
      "       'uName', 'uEmail', 'uPhone', 'createdAt', 'updatedAt', '__v'],\n",
      "      dtype='object')\n"
     ]
    }
   ],
   "source": [
    "print(hostels.columns)"
   ]
  },
  {
   "cell_type": "code",
   "execution_count": 38,
   "id": "e501b729",
   "metadata": {},
   "outputs": [],
   "source": [
    "hostels = hostels[['_id', 'title', 'description', 'address','catagory','features','price', 'lng', 'lat']]"
   ]
  },
  {
   "cell_type": "code",
   "execution_count": 39,
   "id": "38bfb648",
   "metadata": {},
   "outputs": [
    {
     "data": {
      "text/html": [
       "<div>\n",
       "<style scoped>\n",
       "    .dataframe tbody tr th:only-of-type {\n",
       "        vertical-align: middle;\n",
       "    }\n",
       "\n",
       "    .dataframe tbody tr th {\n",
       "        vertical-align: top;\n",
       "    }\n",
       "\n",
       "    .dataframe thead th {\n",
       "        text-align: right;\n",
       "    }\n",
       "</style>\n",
       "<table border=\"1\" class=\"dataframe\">\n",
       "  <thead>\n",
       "    <tr style=\"text-align: right;\">\n",
       "      <th></th>\n",
       "      <th>_id</th>\n",
       "      <th>title</th>\n",
       "      <th>description</th>\n",
       "      <th>address</th>\n",
       "      <th>catagory</th>\n",
       "      <th>features</th>\n",
       "      <th>price</th>\n",
       "      <th>lng</th>\n",
       "      <th>lat</th>\n",
       "    </tr>\n",
       "  </thead>\n",
       "  <tbody>\n",
       "    <tr>\n",
       "      <th>0</th>\n",
       "      <td>64c387aefc06642f2440febe</td>\n",
       "      <td>Five Star Boys Hostel</td>\n",
       "      <td>Five Star Boys Hostel one of the hostels in Ka...</td>\n",
       "      <td>Maitidevi, Kathmandu, Bagmati, Nepal</td>\n",
       "      <td>Boys hostel</td>\n",
       "      <td>24 hours electricity,Hot and Cold water,Launda...</td>\n",
       "      <td>10500</td>\n",
       "      <td>85.333417</td>\n",
       "      <td>27.703133</td>\n",
       "    </tr>\n",
       "    <tr>\n",
       "      <th>1</th>\n",
       "      <td>64c38877fc06642f2440fec9</td>\n",
       "      <td>Third Eyes Boys Hostel</td>\n",
       "      <td>Third Eye Boys Hostel offers you services like...</td>\n",
       "      <td>Bhojan Griha, Kathmandu, Bagmati, Nepal</td>\n",
       "      <td>Boys hostel</td>\n",
       "      <td>24 hours electricity,Hot and Cold water,Launda...</td>\n",
       "      <td>9500</td>\n",
       "      <td>85.327202</td>\n",
       "      <td>27.705343</td>\n",
       "    </tr>\n",
       "    <tr>\n",
       "      <th>2</th>\n",
       "      <td>64c388dbfc06642f2440fecc</td>\n",
       "      <td>Shivam Boys Hostel</td>\n",
       "      <td>Shivam Boys Hostel is located in Gyaneshwor, t...</td>\n",
       "      <td>Galaxy Public School, Dillibajar, Kathmandu, B...</td>\n",
       "      <td>Boys hostel</td>\n",
       "      <td>Hot and Cold water,24 hours electricity,Launda...</td>\n",
       "      <td>9500</td>\n",
       "      <td>85.330546</td>\n",
       "      <td>27.708978</td>\n",
       "    </tr>\n",
       "    <tr>\n",
       "      <th>3</th>\n",
       "      <td>64c389d6fc06642f2440fed7</td>\n",
       "      <td>Nepzone Boys Hostel</td>\n",
       "      <td>Nepzone Boys Hostel is located at the very cor...</td>\n",
       "      <td>Charkhal, Dillibazar, Kathmandu, Bagmati, Nepal</td>\n",
       "      <td>Boys hostel</td>\n",
       "      <td>CCTV,Security Guard,Parking Lot,Locker room,Wi...</td>\n",
       "      <td>9499</td>\n",
       "      <td>85.328554</td>\n",
       "      <td>27.706303</td>\n",
       "    </tr>\n",
       "    <tr>\n",
       "      <th>4</th>\n",
       "      <td>64c38b06fc06642f2440feda</td>\n",
       "      <td>Samunnati Boys Hostel</td>\n",
       "      <td>Samunnati Boys Hostel can provide a comfortabl...</td>\n",
       "      <td>Dillibazar, Kathmandu, Bagmati, Nepal</td>\n",
       "      <td>Boys hostel</td>\n",
       "      <td>24 hours electricity,Hot and Cold water,Launda...</td>\n",
       "      <td>10000</td>\n",
       "      <td>85.328221</td>\n",
       "      <td>27.704821</td>\n",
       "    </tr>\n",
       "  </tbody>\n",
       "</table>\n",
       "</div>"
      ],
      "text/plain": [
       "                        _id                   title  \\\n",
       "0  64c387aefc06642f2440febe   Five Star Boys Hostel   \n",
       "1  64c38877fc06642f2440fec9  Third Eyes Boys Hostel   \n",
       "2  64c388dbfc06642f2440fecc      Shivam Boys Hostel   \n",
       "3  64c389d6fc06642f2440fed7     Nepzone Boys Hostel   \n",
       "4  64c38b06fc06642f2440feda   Samunnati Boys Hostel   \n",
       "\n",
       "                                         description  \\\n",
       "0  Five Star Boys Hostel one of the hostels in Ka...   \n",
       "1  Third Eye Boys Hostel offers you services like...   \n",
       "2  Shivam Boys Hostel is located in Gyaneshwor, t...   \n",
       "3  Nepzone Boys Hostel is located at the very cor...   \n",
       "4  Samunnati Boys Hostel can provide a comfortabl...   \n",
       "\n",
       "                                             address     catagory  \\\n",
       "0               Maitidevi, Kathmandu, Bagmati, Nepal  Boys hostel   \n",
       "1            Bhojan Griha, Kathmandu, Bagmati, Nepal  Boys hostel   \n",
       "2  Galaxy Public School, Dillibajar, Kathmandu, B...  Boys hostel   \n",
       "3    Charkhal, Dillibazar, Kathmandu, Bagmati, Nepal  Boys hostel   \n",
       "4              Dillibazar, Kathmandu, Bagmati, Nepal  Boys hostel   \n",
       "\n",
       "                                            features  price        lng  \\\n",
       "0  24 hours electricity,Hot and Cold water,Launda...  10500  85.333417   \n",
       "1  24 hours electricity,Hot and Cold water,Launda...   9500  85.327202   \n",
       "2  Hot and Cold water,24 hours electricity,Launda...   9500  85.330546   \n",
       "3  CCTV,Security Guard,Parking Lot,Locker room,Wi...   9499  85.328554   \n",
       "4  24 hours electricity,Hot and Cold water,Launda...  10000  85.328221   \n",
       "\n",
       "         lat  \n",
       "0  27.703133  \n",
       "1  27.705343  \n",
       "2  27.708978  \n",
       "3  27.706303  \n",
       "4  27.704821  "
      ]
     },
     "execution_count": 39,
     "metadata": {},
     "output_type": "execute_result"
    }
   ],
   "source": [
    "hostels.head()"
   ]
  },
  {
   "cell_type": "code",
   "execution_count": 40,
   "id": "f87a0b82",
   "metadata": {},
   "outputs": [
    {
     "name": "stdout",
     "output_type": "stream",
     "text": [
      "Index(['_id', 'title', 'description', 'address', 'catagory', 'features',\n",
      "       'price', 'lng', 'lat'],\n",
      "      dtype='object')\n"
     ]
    }
   ],
   "source": [
    "print(hostels.columns)"
   ]
  },
  {
   "cell_type": "code",
   "execution_count": 41,
   "id": "f9da9aa0",
   "metadata": {},
   "outputs": [
    {
     "data": {
      "text/plain": [
       "_id            0\n",
       "title          0\n",
       "description    0\n",
       "address        0\n",
       "catagory       0\n",
       "features       0\n",
       "price          0\n",
       "lng            0\n",
       "lat            0\n",
       "dtype: int64"
      ]
     },
     "execution_count": 41,
     "metadata": {},
     "output_type": "execute_result"
    }
   ],
   "source": [
    "hostels.isnull().sum()"
   ]
  },
  {
   "cell_type": "code",
   "execution_count": 42,
   "id": "20fc09ba",
   "metadata": {},
   "outputs": [
    {
     "data": {
      "text/plain": [
       "0"
      ]
     },
     "execution_count": 42,
     "metadata": {},
     "output_type": "execute_result"
    }
   ],
   "source": [
    "hostels.duplicated().sum()"
   ]
  },
  {
   "cell_type": "code",
   "execution_count": 43,
   "id": "1a4ec3de",
   "metadata": {},
   "outputs": [],
   "source": [
    "hostels['title'] = hostels['title'].apply(lambda x:x.split())"
   ]
  },
  {
   "cell_type": "code",
   "execution_count": 44,
   "id": "0a0831f9",
   "metadata": {},
   "outputs": [],
   "source": [
    "hostels['description'] = hostels['description'].apply(lambda x:x.split())"
   ]
  },
  {
   "cell_type": "code",
   "execution_count": 45,
   "id": "96b0ac93",
   "metadata": {},
   "outputs": [],
   "source": [
    "hostels['address'] = hostels['address'].apply(lambda x:x.split())"
   ]
  },
  {
   "cell_type": "code",
   "execution_count": 46,
   "id": "f5481f54",
   "metadata": {},
   "outputs": [],
   "source": [
    "hostels['features'] = hostels['features'].apply(lambda x:x.split())"
   ]
  },
  {
   "cell_type": "code",
   "execution_count": 47,
   "id": "e6f4d5ee",
   "metadata": {},
   "outputs": [
    {
     "data": {
      "text/html": [
       "<div>\n",
       "<style scoped>\n",
       "    .dataframe tbody tr th:only-of-type {\n",
       "        vertical-align: middle;\n",
       "    }\n",
       "\n",
       "    .dataframe tbody tr th {\n",
       "        vertical-align: top;\n",
       "    }\n",
       "\n",
       "    .dataframe thead th {\n",
       "        text-align: right;\n",
       "    }\n",
       "</style>\n",
       "<table border=\"1\" class=\"dataframe\">\n",
       "  <thead>\n",
       "    <tr style=\"text-align: right;\">\n",
       "      <th></th>\n",
       "      <th>_id</th>\n",
       "      <th>title</th>\n",
       "      <th>description</th>\n",
       "      <th>address</th>\n",
       "      <th>catagory</th>\n",
       "      <th>features</th>\n",
       "      <th>price</th>\n",
       "      <th>lng</th>\n",
       "      <th>lat</th>\n",
       "    </tr>\n",
       "  </thead>\n",
       "  <tbody>\n",
       "    <tr>\n",
       "      <th>0</th>\n",
       "      <td>64c387aefc06642f2440febe</td>\n",
       "      <td>[Five, Star, Boys, Hostel]</td>\n",
       "      <td>[Five, Star, Boys, Hostel, one, of, the, hoste...</td>\n",
       "      <td>[Maitidevi,, Kathmandu,, Bagmati,, Nepal]</td>\n",
       "      <td>Boys hostel</td>\n",
       "      <td>[24, hours, electricity,Hot, and, Cold, water,...</td>\n",
       "      <td>10500</td>\n",
       "      <td>85.333417</td>\n",
       "      <td>27.703133</td>\n",
       "    </tr>\n",
       "    <tr>\n",
       "      <th>1</th>\n",
       "      <td>64c38877fc06642f2440fec9</td>\n",
       "      <td>[Third, Eyes, Boys, Hostel]</td>\n",
       "      <td>[Third, Eye, Boys, Hostel, offers, you, servic...</td>\n",
       "      <td>[Bhojan, Griha,, Kathmandu,, Bagmati,, Nepal]</td>\n",
       "      <td>Boys hostel</td>\n",
       "      <td>[24, hours, electricity,Hot, and, Cold, water,...</td>\n",
       "      <td>9500</td>\n",
       "      <td>85.327202</td>\n",
       "      <td>27.705343</td>\n",
       "    </tr>\n",
       "    <tr>\n",
       "      <th>2</th>\n",
       "      <td>64c388dbfc06642f2440fecc</td>\n",
       "      <td>[Shivam, Boys, Hostel]</td>\n",
       "      <td>[Shivam, Boys, Hostel, is, located, in, Gyanes...</td>\n",
       "      <td>[Galaxy, Public, School,, Dillibajar,, Kathman...</td>\n",
       "      <td>Boys hostel</td>\n",
       "      <td>[Hot, and, Cold, water,24, hours, electricity,...</td>\n",
       "      <td>9500</td>\n",
       "      <td>85.330546</td>\n",
       "      <td>27.708978</td>\n",
       "    </tr>\n",
       "    <tr>\n",
       "      <th>3</th>\n",
       "      <td>64c389d6fc06642f2440fed7</td>\n",
       "      <td>[Nepzone, Boys, Hostel]</td>\n",
       "      <td>[Nepzone, Boys, Hostel, is, located, at, the, ...</td>\n",
       "      <td>[Charkhal,, Dillibazar,, Kathmandu,, Bagmati,,...</td>\n",
       "      <td>Boys hostel</td>\n",
       "      <td>[CCTV,Security, Guard,Parking, Lot,Locker, roo...</td>\n",
       "      <td>9499</td>\n",
       "      <td>85.328554</td>\n",
       "      <td>27.706303</td>\n",
       "    </tr>\n",
       "    <tr>\n",
       "      <th>4</th>\n",
       "      <td>64c38b06fc06642f2440feda</td>\n",
       "      <td>[Samunnati, Boys, Hostel]</td>\n",
       "      <td>[Samunnati, Boys, Hostel, can, provide, a, com...</td>\n",
       "      <td>[Dillibazar,, Kathmandu,, Bagmati,, Nepal]</td>\n",
       "      <td>Boys hostel</td>\n",
       "      <td>[24, hours, electricity,Hot, and, Cold, water,...</td>\n",
       "      <td>10000</td>\n",
       "      <td>85.328221</td>\n",
       "      <td>27.704821</td>\n",
       "    </tr>\n",
       "  </tbody>\n",
       "</table>\n",
       "</div>"
      ],
      "text/plain": [
       "                        _id                        title  \\\n",
       "0  64c387aefc06642f2440febe   [Five, Star, Boys, Hostel]   \n",
       "1  64c38877fc06642f2440fec9  [Third, Eyes, Boys, Hostel]   \n",
       "2  64c388dbfc06642f2440fecc       [Shivam, Boys, Hostel]   \n",
       "3  64c389d6fc06642f2440fed7      [Nepzone, Boys, Hostel]   \n",
       "4  64c38b06fc06642f2440feda    [Samunnati, Boys, Hostel]   \n",
       "\n",
       "                                         description  \\\n",
       "0  [Five, Star, Boys, Hostel, one, of, the, hoste...   \n",
       "1  [Third, Eye, Boys, Hostel, offers, you, servic...   \n",
       "2  [Shivam, Boys, Hostel, is, located, in, Gyanes...   \n",
       "3  [Nepzone, Boys, Hostel, is, located, at, the, ...   \n",
       "4  [Samunnati, Boys, Hostel, can, provide, a, com...   \n",
       "\n",
       "                                             address     catagory  \\\n",
       "0          [Maitidevi,, Kathmandu,, Bagmati,, Nepal]  Boys hostel   \n",
       "1      [Bhojan, Griha,, Kathmandu,, Bagmati,, Nepal]  Boys hostel   \n",
       "2  [Galaxy, Public, School,, Dillibajar,, Kathman...  Boys hostel   \n",
       "3  [Charkhal,, Dillibazar,, Kathmandu,, Bagmati,,...  Boys hostel   \n",
       "4         [Dillibazar,, Kathmandu,, Bagmati,, Nepal]  Boys hostel   \n",
       "\n",
       "                                            features  price        lng  \\\n",
       "0  [24, hours, electricity,Hot, and, Cold, water,...  10500  85.333417   \n",
       "1  [24, hours, electricity,Hot, and, Cold, water,...   9500  85.327202   \n",
       "2  [Hot, and, Cold, water,24, hours, electricity,...   9500  85.330546   \n",
       "3  [CCTV,Security, Guard,Parking, Lot,Locker, roo...   9499  85.328554   \n",
       "4  [24, hours, electricity,Hot, and, Cold, water,...  10000  85.328221   \n",
       "\n",
       "         lat  \n",
       "0  27.703133  \n",
       "1  27.705343  \n",
       "2  27.708978  \n",
       "3  27.706303  \n",
       "4  27.704821  "
      ]
     },
     "execution_count": 47,
     "metadata": {},
     "output_type": "execute_result"
    }
   ],
   "source": [
    "hostels.head()"
   ]
  },
  {
   "cell_type": "code",
   "execution_count": 49,
   "id": "f6fb4279",
   "metadata": {},
   "outputs": [],
   "source": [
    "hostels['title'] = hostels['title'].apply(lambda x:[i.replace(\" \",\"\") for i in x])"
   ]
  },
  {
   "cell_type": "code",
   "execution_count": 50,
   "id": "90f1f528",
   "metadata": {},
   "outputs": [],
   "source": [
    "hostels['description'] = hostels['description'].apply(lambda x:[i.replace(\" \",\"\") for i in x])"
   ]
  },
  {
   "cell_type": "code",
   "execution_count": 51,
   "id": "82e53f92",
   "metadata": {},
   "outputs": [],
   "source": [
    "hostels['address'] = hostels['address'].apply(lambda x:[i.replace(\" \",\"\") for i in x])"
   ]
  },
  {
   "cell_type": "code",
   "execution_count": 52,
   "id": "475a5573",
   "metadata": {},
   "outputs": [],
   "source": [
    "hostels['features'] = hostels['features'].apply(lambda x:[i.replace(\" \",\"\") for i in x])"
   ]
  },
  {
   "cell_type": "code",
   "execution_count": 53,
   "id": "faa103c8",
   "metadata": {},
   "outputs": [
    {
     "data": {
      "text/html": [
       "<div>\n",
       "<style scoped>\n",
       "    .dataframe tbody tr th:only-of-type {\n",
       "        vertical-align: middle;\n",
       "    }\n",
       "\n",
       "    .dataframe tbody tr th {\n",
       "        vertical-align: top;\n",
       "    }\n",
       "\n",
       "    .dataframe thead th {\n",
       "        text-align: right;\n",
       "    }\n",
       "</style>\n",
       "<table border=\"1\" class=\"dataframe\">\n",
       "  <thead>\n",
       "    <tr style=\"text-align: right;\">\n",
       "      <th></th>\n",
       "      <th>_id</th>\n",
       "      <th>title</th>\n",
       "      <th>description</th>\n",
       "      <th>address</th>\n",
       "      <th>catagory</th>\n",
       "      <th>features</th>\n",
       "      <th>price</th>\n",
       "      <th>lng</th>\n",
       "      <th>lat</th>\n",
       "    </tr>\n",
       "  </thead>\n",
       "  <tbody>\n",
       "    <tr>\n",
       "      <th>0</th>\n",
       "      <td>64c387aefc06642f2440febe</td>\n",
       "      <td>[Five, Star, Boys, Hostel]</td>\n",
       "      <td>[Five, Star, Boys, Hostel, one, of, the, hoste...</td>\n",
       "      <td>[Maitidevi,, Kathmandu,, Bagmati,, Nepal]</td>\n",
       "      <td>Boys hostel</td>\n",
       "      <td>[24, hours, electricity,Hot, and, Cold, water,...</td>\n",
       "      <td>10500</td>\n",
       "      <td>85.333417</td>\n",
       "      <td>27.703133</td>\n",
       "    </tr>\n",
       "    <tr>\n",
       "      <th>1</th>\n",
       "      <td>64c38877fc06642f2440fec9</td>\n",
       "      <td>[Third, Eyes, Boys, Hostel]</td>\n",
       "      <td>[Third, Eye, Boys, Hostel, offers, you, servic...</td>\n",
       "      <td>[Bhojan, Griha,, Kathmandu,, Bagmati,, Nepal]</td>\n",
       "      <td>Boys hostel</td>\n",
       "      <td>[24, hours, electricity,Hot, and, Cold, water,...</td>\n",
       "      <td>9500</td>\n",
       "      <td>85.327202</td>\n",
       "      <td>27.705343</td>\n",
       "    </tr>\n",
       "    <tr>\n",
       "      <th>2</th>\n",
       "      <td>64c388dbfc06642f2440fecc</td>\n",
       "      <td>[Shivam, Boys, Hostel]</td>\n",
       "      <td>[Shivam, Boys, Hostel, is, located, in, Gyanes...</td>\n",
       "      <td>[Galaxy, Public, School,, Dillibajar,, Kathman...</td>\n",
       "      <td>Boys hostel</td>\n",
       "      <td>[Hot, and, Cold, water,24, hours, electricity,...</td>\n",
       "      <td>9500</td>\n",
       "      <td>85.330546</td>\n",
       "      <td>27.708978</td>\n",
       "    </tr>\n",
       "    <tr>\n",
       "      <th>3</th>\n",
       "      <td>64c389d6fc06642f2440fed7</td>\n",
       "      <td>[Nepzone, Boys, Hostel]</td>\n",
       "      <td>[Nepzone, Boys, Hostel, is, located, at, the, ...</td>\n",
       "      <td>[Charkhal,, Dillibazar,, Kathmandu,, Bagmati,,...</td>\n",
       "      <td>Boys hostel</td>\n",
       "      <td>[CCTV,Security, Guard,Parking, Lot,Locker, roo...</td>\n",
       "      <td>9499</td>\n",
       "      <td>85.328554</td>\n",
       "      <td>27.706303</td>\n",
       "    </tr>\n",
       "    <tr>\n",
       "      <th>4</th>\n",
       "      <td>64c38b06fc06642f2440feda</td>\n",
       "      <td>[Samunnati, Boys, Hostel]</td>\n",
       "      <td>[Samunnati, Boys, Hostel, can, provide, a, com...</td>\n",
       "      <td>[Dillibazar,, Kathmandu,, Bagmati,, Nepal]</td>\n",
       "      <td>Boys hostel</td>\n",
       "      <td>[24, hours, electricity,Hot, and, Cold, water,...</td>\n",
       "      <td>10000</td>\n",
       "      <td>85.328221</td>\n",
       "      <td>27.704821</td>\n",
       "    </tr>\n",
       "  </tbody>\n",
       "</table>\n",
       "</div>"
      ],
      "text/plain": [
       "                        _id                        title  \\\n",
       "0  64c387aefc06642f2440febe   [Five, Star, Boys, Hostel]   \n",
       "1  64c38877fc06642f2440fec9  [Third, Eyes, Boys, Hostel]   \n",
       "2  64c388dbfc06642f2440fecc       [Shivam, Boys, Hostel]   \n",
       "3  64c389d6fc06642f2440fed7      [Nepzone, Boys, Hostel]   \n",
       "4  64c38b06fc06642f2440feda    [Samunnati, Boys, Hostel]   \n",
       "\n",
       "                                         description  \\\n",
       "0  [Five, Star, Boys, Hostel, one, of, the, hoste...   \n",
       "1  [Third, Eye, Boys, Hostel, offers, you, servic...   \n",
       "2  [Shivam, Boys, Hostel, is, located, in, Gyanes...   \n",
       "3  [Nepzone, Boys, Hostel, is, located, at, the, ...   \n",
       "4  [Samunnati, Boys, Hostel, can, provide, a, com...   \n",
       "\n",
       "                                             address     catagory  \\\n",
       "0          [Maitidevi,, Kathmandu,, Bagmati,, Nepal]  Boys hostel   \n",
       "1      [Bhojan, Griha,, Kathmandu,, Bagmati,, Nepal]  Boys hostel   \n",
       "2  [Galaxy, Public, School,, Dillibajar,, Kathman...  Boys hostel   \n",
       "3  [Charkhal,, Dillibazar,, Kathmandu,, Bagmati,,...  Boys hostel   \n",
       "4         [Dillibazar,, Kathmandu,, Bagmati,, Nepal]  Boys hostel   \n",
       "\n",
       "                                            features  price        lng  \\\n",
       "0  [24, hours, electricity,Hot, and, Cold, water,...  10500  85.333417   \n",
       "1  [24, hours, electricity,Hot, and, Cold, water,...   9500  85.327202   \n",
       "2  [Hot, and, Cold, water,24, hours, electricity,...   9500  85.330546   \n",
       "3  [CCTV,Security, Guard,Parking, Lot,Locker, roo...   9499  85.328554   \n",
       "4  [24, hours, electricity,Hot, and, Cold, water,...  10000  85.328221   \n",
       "\n",
       "         lat  \n",
       "0  27.703133  \n",
       "1  27.705343  \n",
       "2  27.708978  \n",
       "3  27.706303  \n",
       "4  27.704821  "
      ]
     },
     "execution_count": 53,
     "metadata": {},
     "output_type": "execute_result"
    }
   ],
   "source": [
    "hostels.head()"
   ]
  },
  {
   "cell_type": "code",
   "execution_count": 54,
   "id": "5392ffbd",
   "metadata": {},
   "outputs": [],
   "source": [
    "hostels['tags'] = hostels['title'] + hostels['description'] + hostels['address'] + hostels['features']"
   ]
  },
  {
   "cell_type": "code",
   "execution_count": 55,
   "id": "524f24ec",
   "metadata": {},
   "outputs": [
    {
     "data": {
      "text/html": [
       "<div>\n",
       "<style scoped>\n",
       "    .dataframe tbody tr th:only-of-type {\n",
       "        vertical-align: middle;\n",
       "    }\n",
       "\n",
       "    .dataframe tbody tr th {\n",
       "        vertical-align: top;\n",
       "    }\n",
       "\n",
       "    .dataframe thead th {\n",
       "        text-align: right;\n",
       "    }\n",
       "</style>\n",
       "<table border=\"1\" class=\"dataframe\">\n",
       "  <thead>\n",
       "    <tr style=\"text-align: right;\">\n",
       "      <th></th>\n",
       "      <th>_id</th>\n",
       "      <th>title</th>\n",
       "      <th>description</th>\n",
       "      <th>address</th>\n",
       "      <th>catagory</th>\n",
       "      <th>features</th>\n",
       "      <th>price</th>\n",
       "      <th>lng</th>\n",
       "      <th>lat</th>\n",
       "      <th>tags</th>\n",
       "    </tr>\n",
       "  </thead>\n",
       "  <tbody>\n",
       "    <tr>\n",
       "      <th>0</th>\n",
       "      <td>64c387aefc06642f2440febe</td>\n",
       "      <td>[Five, Star, Boys, Hostel]</td>\n",
       "      <td>[Five, Star, Boys, Hostel, one, of, the, hoste...</td>\n",
       "      <td>[Maitidevi,, Kathmandu,, Bagmati,, Nepal]</td>\n",
       "      <td>Boys hostel</td>\n",
       "      <td>[24, hours, electricity,Hot, and, Cold, water,...</td>\n",
       "      <td>10500</td>\n",
       "      <td>85.333417</td>\n",
       "      <td>27.703133</td>\n",
       "      <td>[Five, Star, Boys, Hostel, Five, Star, Boys, H...</td>\n",
       "    </tr>\n",
       "    <tr>\n",
       "      <th>1</th>\n",
       "      <td>64c38877fc06642f2440fec9</td>\n",
       "      <td>[Third, Eyes, Boys, Hostel]</td>\n",
       "      <td>[Third, Eye, Boys, Hostel, offers, you, servic...</td>\n",
       "      <td>[Bhojan, Griha,, Kathmandu,, Bagmati,, Nepal]</td>\n",
       "      <td>Boys hostel</td>\n",
       "      <td>[24, hours, electricity,Hot, and, Cold, water,...</td>\n",
       "      <td>9500</td>\n",
       "      <td>85.327202</td>\n",
       "      <td>27.705343</td>\n",
       "      <td>[Third, Eyes, Boys, Hostel, Third, Eye, Boys, ...</td>\n",
       "    </tr>\n",
       "    <tr>\n",
       "      <th>2</th>\n",
       "      <td>64c388dbfc06642f2440fecc</td>\n",
       "      <td>[Shivam, Boys, Hostel]</td>\n",
       "      <td>[Shivam, Boys, Hostel, is, located, in, Gyanes...</td>\n",
       "      <td>[Galaxy, Public, School,, Dillibajar,, Kathman...</td>\n",
       "      <td>Boys hostel</td>\n",
       "      <td>[Hot, and, Cold, water,24, hours, electricity,...</td>\n",
       "      <td>9500</td>\n",
       "      <td>85.330546</td>\n",
       "      <td>27.708978</td>\n",
       "      <td>[Shivam, Boys, Hostel, Shivam, Boys, Hostel, i...</td>\n",
       "    </tr>\n",
       "    <tr>\n",
       "      <th>3</th>\n",
       "      <td>64c389d6fc06642f2440fed7</td>\n",
       "      <td>[Nepzone, Boys, Hostel]</td>\n",
       "      <td>[Nepzone, Boys, Hostel, is, located, at, the, ...</td>\n",
       "      <td>[Charkhal,, Dillibazar,, Kathmandu,, Bagmati,,...</td>\n",
       "      <td>Boys hostel</td>\n",
       "      <td>[CCTV,Security, Guard,Parking, Lot,Locker, roo...</td>\n",
       "      <td>9499</td>\n",
       "      <td>85.328554</td>\n",
       "      <td>27.706303</td>\n",
       "      <td>[Nepzone, Boys, Hostel, Nepzone, Boys, Hostel,...</td>\n",
       "    </tr>\n",
       "    <tr>\n",
       "      <th>4</th>\n",
       "      <td>64c38b06fc06642f2440feda</td>\n",
       "      <td>[Samunnati, Boys, Hostel]</td>\n",
       "      <td>[Samunnati, Boys, Hostel, can, provide, a, com...</td>\n",
       "      <td>[Dillibazar,, Kathmandu,, Bagmati,, Nepal]</td>\n",
       "      <td>Boys hostel</td>\n",
       "      <td>[24, hours, electricity,Hot, and, Cold, water,...</td>\n",
       "      <td>10000</td>\n",
       "      <td>85.328221</td>\n",
       "      <td>27.704821</td>\n",
       "      <td>[Samunnati, Boys, Hostel, Samunnati, Boys, Hos...</td>\n",
       "    </tr>\n",
       "  </tbody>\n",
       "</table>\n",
       "</div>"
      ],
      "text/plain": [
       "                        _id                        title  \\\n",
       "0  64c387aefc06642f2440febe   [Five, Star, Boys, Hostel]   \n",
       "1  64c38877fc06642f2440fec9  [Third, Eyes, Boys, Hostel]   \n",
       "2  64c388dbfc06642f2440fecc       [Shivam, Boys, Hostel]   \n",
       "3  64c389d6fc06642f2440fed7      [Nepzone, Boys, Hostel]   \n",
       "4  64c38b06fc06642f2440feda    [Samunnati, Boys, Hostel]   \n",
       "\n",
       "                                         description  \\\n",
       "0  [Five, Star, Boys, Hostel, one, of, the, hoste...   \n",
       "1  [Third, Eye, Boys, Hostel, offers, you, servic...   \n",
       "2  [Shivam, Boys, Hostel, is, located, in, Gyanes...   \n",
       "3  [Nepzone, Boys, Hostel, is, located, at, the, ...   \n",
       "4  [Samunnati, Boys, Hostel, can, provide, a, com...   \n",
       "\n",
       "                                             address     catagory  \\\n",
       "0          [Maitidevi,, Kathmandu,, Bagmati,, Nepal]  Boys hostel   \n",
       "1      [Bhojan, Griha,, Kathmandu,, Bagmati,, Nepal]  Boys hostel   \n",
       "2  [Galaxy, Public, School,, Dillibajar,, Kathman...  Boys hostel   \n",
       "3  [Charkhal,, Dillibazar,, Kathmandu,, Bagmati,,...  Boys hostel   \n",
       "4         [Dillibazar,, Kathmandu,, Bagmati,, Nepal]  Boys hostel   \n",
       "\n",
       "                                            features  price        lng  \\\n",
       "0  [24, hours, electricity,Hot, and, Cold, water,...  10500  85.333417   \n",
       "1  [24, hours, electricity,Hot, and, Cold, water,...   9500  85.327202   \n",
       "2  [Hot, and, Cold, water,24, hours, electricity,...   9500  85.330546   \n",
       "3  [CCTV,Security, Guard,Parking, Lot,Locker, roo...   9499  85.328554   \n",
       "4  [24, hours, electricity,Hot, and, Cold, water,...  10000  85.328221   \n",
       "\n",
       "         lat                                               tags  \n",
       "0  27.703133  [Five, Star, Boys, Hostel, Five, Star, Boys, H...  \n",
       "1  27.705343  [Third, Eyes, Boys, Hostel, Third, Eye, Boys, ...  \n",
       "2  27.708978  [Shivam, Boys, Hostel, Shivam, Boys, Hostel, i...  \n",
       "3  27.706303  [Nepzone, Boys, Hostel, Nepzone, Boys, Hostel,...  \n",
       "4  27.704821  [Samunnati, Boys, Hostel, Samunnati, Boys, Hos...  "
      ]
     },
     "execution_count": 55,
     "metadata": {},
     "output_type": "execute_result"
    }
   ],
   "source": [
    "hostels.head()"
   ]
  },
  {
   "cell_type": "code",
   "execution_count": 56,
   "id": "bb9ced6a",
   "metadata": {},
   "outputs": [
    {
     "data": {
      "text/plain": [
       "['Five',\n",
       " 'Star',\n",
       " 'Boys',\n",
       " 'Hostel',\n",
       " 'Five',\n",
       " 'Star',\n",
       " 'Boys',\n",
       " 'Hostel',\n",
       " 'one',\n",
       " 'of',\n",
       " 'the',\n",
       " 'hostels',\n",
       " 'in',\n",
       " 'Kathmandu',\n",
       " 'located',\n",
       " 'in',\n",
       " 'Maitidevi',\n",
       " 'gains',\n",
       " 'popularity',\n",
       " 'day',\n",
       " 'by',\n",
       " 'day',\n",
       " 'by',\n",
       " 'servicing',\n",
       " 'its',\n",
       " 'students,',\n",
       " 'providing',\n",
       " 'required',\n",
       " 'facilities,',\n",
       " 'and',\n",
       " 'making',\n",
       " 'them',\n",
       " 'involved',\n",
       " 'in',\n",
       " 'different',\n",
       " 'creative',\n",
       " 'activities.',\n",
       " 'Prices:',\n",
       " 'Single',\n",
       " 'Seater',\n",
       " '-',\n",
       " 'Rs.16000,',\n",
       " '2',\n",
       " 'Seater',\n",
       " '-',\n",
       " 'Rs.11500,',\n",
       " '3',\n",
       " 'Seater',\n",
       " '-',\n",
       " 'Rs.11000,',\n",
       " '4',\n",
       " 'Seater',\n",
       " '-',\n",
       " 'Rs.10500.',\n",
       " 'Maitidevi,',\n",
       " 'Kathmandu,',\n",
       " 'Bagmati,',\n",
       " 'Nepal',\n",
       " '24',\n",
       " 'hours',\n",
       " 'electricity,Hot',\n",
       " 'and',\n",
       " 'Cold',\n",
       " 'water,Laundary,Wifi,Locker',\n",
       " 'room,Parking',\n",
       " 'Lot,Security',\n",
       " 'Guard,CCTV']"
      ]
     },
     "execution_count": 56,
     "metadata": {},
     "output_type": "execute_result"
    }
   ],
   "source": [
    "hostels['tags'][0]"
   ]
  },
  {
   "cell_type": "code",
   "execution_count": 58,
   "id": "0371590f",
   "metadata": {},
   "outputs": [],
   "source": [
    "hostels['tags'] = hostels['tags'].apply(lambda x: \" \".join([tag.replace(\"', '\", \" \").replace(\"['\", \"\").replace(\"']\", \"\") for tag in x]))"
   ]
  },
  {
   "cell_type": "code",
   "execution_count": 59,
   "id": "e8dac143",
   "metadata": {},
   "outputs": [
    {
     "data": {
      "text/plain": [
       "'Five Star Boys Hostel Five Star Boys Hostel one of the hostels in Kathmandu located in Maitidevi gains popularity day by day by servicing its students, providing required facilities, and making them involved in different creative activities. Prices: Single Seater - Rs.16000, 2 Seater - Rs.11500, 3 Seater - Rs.11000, 4 Seater - Rs.10500. Maitidevi, Kathmandu, Bagmati, Nepal 24 hours electricity,Hot and Cold water,Laundary,Wifi,Locker room,Parking Lot,Security Guard,CCTV'"
      ]
     },
     "execution_count": 59,
     "metadata": {},
     "output_type": "execute_result"
    }
   ],
   "source": [
    "hostels['tags'][0]"
   ]
  },
  {
   "cell_type": "code",
   "execution_count": 60,
   "id": "b57caac0",
   "metadata": {},
   "outputs": [],
   "source": [
    "hostels['tags'] = hostels['tags'].apply(lambda x: x.replace(\"'\", \"\").replace('\"', ''))"
   ]
  },
  {
   "cell_type": "code",
   "execution_count": 61,
   "id": "2872eb26",
   "metadata": {},
   "outputs": [
    {
     "data": {
      "text/plain": [
       "'Five Star Boys Hostel Five Star Boys Hostel one of the hostels in Kathmandu located in Maitidevi gains popularity day by day by servicing its students, providing required facilities, and making them involved in different creative activities. Prices: Single Seater - Rs.16000, 2 Seater - Rs.11500, 3 Seater - Rs.11000, 4 Seater - Rs.10500. Maitidevi, Kathmandu, Bagmati, Nepal 24 hours electricity,Hot and Cold water,Laundary,Wifi,Locker room,Parking Lot,Security Guard,CCTV'"
      ]
     },
     "execution_count": 61,
     "metadata": {},
     "output_type": "execute_result"
    }
   ],
   "source": [
    "hostels['tags'][0]"
   ]
  },
  {
   "cell_type": "code",
   "execution_count": 62,
   "id": "00596e57",
   "metadata": {},
   "outputs": [],
   "source": [
    "new_df = hostels[['_id','price','lng','lat','tags']]"
   ]
  },
  {
   "cell_type": "code",
   "execution_count": 66,
   "id": "37a62446",
   "metadata": {},
   "outputs": [
    {
     "data": {
      "text/html": [
       "<div>\n",
       "<style scoped>\n",
       "    .dataframe tbody tr th:only-of-type {\n",
       "        vertical-align: middle;\n",
       "    }\n",
       "\n",
       "    .dataframe tbody tr th {\n",
       "        vertical-align: top;\n",
       "    }\n",
       "\n",
       "    .dataframe thead th {\n",
       "        text-align: right;\n",
       "    }\n",
       "</style>\n",
       "<table border=\"1\" class=\"dataframe\">\n",
       "  <thead>\n",
       "    <tr style=\"text-align: right;\">\n",
       "      <th></th>\n",
       "      <th>_id</th>\n",
       "      <th>price</th>\n",
       "      <th>lng</th>\n",
       "      <th>lat</th>\n",
       "      <th>tags</th>\n",
       "    </tr>\n",
       "  </thead>\n",
       "  <tbody>\n",
       "    <tr>\n",
       "      <th>0</th>\n",
       "      <td>64c387aefc06642f2440febe</td>\n",
       "      <td>10500</td>\n",
       "      <td>85.333417</td>\n",
       "      <td>27.703133</td>\n",
       "      <td>Five Star Boys Hostel Five Star Boys Hostel on...</td>\n",
       "    </tr>\n",
       "    <tr>\n",
       "      <th>1</th>\n",
       "      <td>64c38877fc06642f2440fec9</td>\n",
       "      <td>9500</td>\n",
       "      <td>85.327202</td>\n",
       "      <td>27.705343</td>\n",
       "      <td>Third Eyes Boys Hostel Third Eye Boys Hostel o...</td>\n",
       "    </tr>\n",
       "    <tr>\n",
       "      <th>2</th>\n",
       "      <td>64c388dbfc06642f2440fecc</td>\n",
       "      <td>9500</td>\n",
       "      <td>85.330546</td>\n",
       "      <td>27.708978</td>\n",
       "      <td>Shivam Boys Hostel Shivam Boys Hostel is locat...</td>\n",
       "    </tr>\n",
       "    <tr>\n",
       "      <th>3</th>\n",
       "      <td>64c389d6fc06642f2440fed7</td>\n",
       "      <td>9499</td>\n",
       "      <td>85.328554</td>\n",
       "      <td>27.706303</td>\n",
       "      <td>Nepzone Boys Hostel Nepzone Boys Hostel is loc...</td>\n",
       "    </tr>\n",
       "    <tr>\n",
       "      <th>4</th>\n",
       "      <td>64c38b06fc06642f2440feda</td>\n",
       "      <td>10000</td>\n",
       "      <td>85.328221</td>\n",
       "      <td>27.704821</td>\n",
       "      <td>Samunnati Boys Hostel Samunnati Boys Hostel ca...</td>\n",
       "    </tr>\n",
       "    <tr>\n",
       "      <th>5</th>\n",
       "      <td>64c38baffc06642f2440fedd</td>\n",
       "      <td>9998</td>\n",
       "      <td>85.323574</td>\n",
       "      <td>27.705715</td>\n",
       "      <td>City Delux Boys Hostel City Deluxe Boys Hostel...</td>\n",
       "    </tr>\n",
       "    <tr>\n",
       "      <th>6</th>\n",
       "      <td>64c38c59fc06642f2440fee0</td>\n",
       "      <td>11000</td>\n",
       "      <td>85.328574</td>\n",
       "      <td>27.701492</td>\n",
       "      <td>Yakso Boys Hostel Yakso Boys Hostel offers aff...</td>\n",
       "    </tr>\n",
       "    <tr>\n",
       "      <th>7</th>\n",
       "      <td>64c38cd4fc06642f2440fee3</td>\n",
       "      <td>9498</td>\n",
       "      <td>85.340689</td>\n",
       "      <td>27.702040</td>\n",
       "      <td>Siddhababa Boys Hostel Sidhababa Boys Hostel i...</td>\n",
       "    </tr>\n",
       "    <tr>\n",
       "      <th>8</th>\n",
       "      <td>64c38d80fc06642f2440fee6</td>\n",
       "      <td>9499</td>\n",
       "      <td>85.323574</td>\n",
       "      <td>27.705715</td>\n",
       "      <td>Samul Boys Hostel Samul Boys Hostel offers you...</td>\n",
       "    </tr>\n",
       "    <tr>\n",
       "      <th>9</th>\n",
       "      <td>64c38fc5fc06642f2440fef7</td>\n",
       "      <td>10000</td>\n",
       "      <td>85.328899</td>\n",
       "      <td>27.692926</td>\n",
       "      <td>Peaceful Girls Hostel Peaceful Girls Hostel fa...</td>\n",
       "    </tr>\n",
       "    <tr>\n",
       "      <th>10</th>\n",
       "      <td>64c3916ffc06642f2440fefc</td>\n",
       "      <td>9500</td>\n",
       "      <td>85.332398</td>\n",
       "      <td>27.703880</td>\n",
       "      <td>Balaji Boys Hostel Balaji Boys Hostel has focu...</td>\n",
       "    </tr>\n",
       "    <tr>\n",
       "      <th>11</th>\n",
       "      <td>64c39289fc06642f2440feff</td>\n",
       "      <td>9500</td>\n",
       "      <td>85.326719</td>\n",
       "      <td>27.690674</td>\n",
       "      <td>New Hill Boys Hostel New Hill Boys Hostel serv...</td>\n",
       "    </tr>\n",
       "    <tr>\n",
       "      <th>12</th>\n",
       "      <td>64c393eefc06642f2440ff02</td>\n",
       "      <td>10000</td>\n",
       "      <td>85.346521</td>\n",
       "      <td>27.684178</td>\n",
       "      <td>AR Boys Hostel A R Boys Hostel located at Mith...</td>\n",
       "    </tr>\n",
       "    <tr>\n",
       "      <th>13</th>\n",
       "      <td>64c39627fc06642f2440ff0e</td>\n",
       "      <td>10000</td>\n",
       "      <td>85.337838</td>\n",
       "      <td>27.690617</td>\n",
       "      <td>Novelty Boys Hostel Novelty Boys Hostel prefer...</td>\n",
       "    </tr>\n",
       "    <tr>\n",
       "      <th>14</th>\n",
       "      <td>64c396dafc06642f2440ff12</td>\n",
       "      <td>9498</td>\n",
       "      <td>85.323379</td>\n",
       "      <td>27.705876</td>\n",
       "      <td>Mount Everest Boys Hostel Meet people from all...</td>\n",
       "    </tr>\n",
       "    <tr>\n",
       "      <th>15</th>\n",
       "      <td>64c397b0fc06642f2440ff15</td>\n",
       "      <td>9500</td>\n",
       "      <td>85.338072</td>\n",
       "      <td>27.692621</td>\n",
       "      <td>Happy Home Boys Hostel Happy Home Boys Hostel ...</td>\n",
       "    </tr>\n",
       "    <tr>\n",
       "      <th>16</th>\n",
       "      <td>64c3989afc06642f2440ff18</td>\n",
       "      <td>9500</td>\n",
       "      <td>85.350423</td>\n",
       "      <td>27.699184</td>\n",
       "      <td>Swarnim And Srijan Girls Hostel Happy Home Boy...</td>\n",
       "    </tr>\n",
       "    <tr>\n",
       "      <th>17</th>\n",
       "      <td>64c399c5fc06642f2440ff1b</td>\n",
       "      <td>11500</td>\n",
       "      <td>85.323876</td>\n",
       "      <td>27.700940</td>\n",
       "      <td>Sunrise Boys Hostel Sunrise Boys Hostel which ...</td>\n",
       "    </tr>\n",
       "    <tr>\n",
       "      <th>18</th>\n",
       "      <td>64c39a98fc06642f2440ff1e</td>\n",
       "      <td>10000</td>\n",
       "      <td>85.327530</td>\n",
       "      <td>27.705463</td>\n",
       "      <td>Kamana Care Hostel Kamana Care Home located at...</td>\n",
       "    </tr>\n",
       "    <tr>\n",
       "      <th>19</th>\n",
       "      <td>64c39e42fc06642f2440ff2a</td>\n",
       "      <td>9500</td>\n",
       "      <td>85.319364</td>\n",
       "      <td>27.705502</td>\n",
       "      <td>Shrija Girls Hostel Shrija Girls Hostel hostel...</td>\n",
       "    </tr>\n",
       "    <tr>\n",
       "      <th>20</th>\n",
       "      <td>64c39ebffc06642f2440ff2d</td>\n",
       "      <td>9500</td>\n",
       "      <td>85.339572</td>\n",
       "      <td>27.724217</td>\n",
       "      <td>Sunrise Girls Hostel Sunrise Girls Hostel,loca...</td>\n",
       "    </tr>\n",
       "    <tr>\n",
       "      <th>21</th>\n",
       "      <td>64c39f5ffc06642f2440ff30</td>\n",
       "      <td>10000</td>\n",
       "      <td>85.340804</td>\n",
       "      <td>27.692629</td>\n",
       "      <td>Kathmandu Girl Hostel Kathmandu Girls Hostel, ...</td>\n",
       "    </tr>\n",
       "    <tr>\n",
       "      <th>22</th>\n",
       "      <td>64c3a1b9fc06642f2440ff36</td>\n",
       "      <td>9500</td>\n",
       "      <td>85.345611</td>\n",
       "      <td>27.684622</td>\n",
       "      <td>Shree Laxmi Girls Hostel Shree laxmi Girls Hos...</td>\n",
       "    </tr>\n",
       "    <tr>\n",
       "      <th>23</th>\n",
       "      <td>64c3a23bfc06642f2440ff39</td>\n",
       "      <td>9000</td>\n",
       "      <td>85.342568</td>\n",
       "      <td>27.687480</td>\n",
       "      <td>Everest Boys Hostel Mount Everest Boys Hostel ...</td>\n",
       "    </tr>\n",
       "    <tr>\n",
       "      <th>24</th>\n",
       "      <td>64c3a314fc06642f2440ff3e</td>\n",
       "      <td>9500</td>\n",
       "      <td>85.345803</td>\n",
       "      <td>27.683149</td>\n",
       "      <td>Om Maha Laxmi Boys Hostel Om Maha Laxmi Boys H...</td>\n",
       "    </tr>\n",
       "    <tr>\n",
       "      <th>25</th>\n",
       "      <td>64c3a3aefc06642f2440ff41</td>\n",
       "      <td>9500</td>\n",
       "      <td>85.335972</td>\n",
       "      <td>27.705841</td>\n",
       "      <td>Jharna Boys Hostel Jharna Boys Hostel offers y...</td>\n",
       "    </tr>\n",
       "    <tr>\n",
       "      <th>26</th>\n",
       "      <td>64c3a45cfc06642f2440ff44</td>\n",
       "      <td>9500</td>\n",
       "      <td>85.329258</td>\n",
       "      <td>27.687234</td>\n",
       "      <td>Kamakhya Boys Hostel Kamakhya Boys Hostel is l...</td>\n",
       "    </tr>\n",
       "    <tr>\n",
       "      <th>27</th>\n",
       "      <td>64c3a4eafc06642f2440ff47</td>\n",
       "      <td>9500</td>\n",
       "      <td>85.306774</td>\n",
       "      <td>27.720559</td>\n",
       "      <td>Bagmati Boys Hostel Bagmati Boys Hostel tends ...</td>\n",
       "    </tr>\n",
       "    <tr>\n",
       "      <th>28</th>\n",
       "      <td>64c3a5b8fc06642f2440ff4a</td>\n",
       "      <td>9500</td>\n",
       "      <td>85.327868</td>\n",
       "      <td>27.693775</td>\n",
       "      <td>Darpan Boys Hostel Darpan Boys Hostel located ...</td>\n",
       "    </tr>\n",
       "    <tr>\n",
       "      <th>29</th>\n",
       "      <td>64c3a6dcfc06642f2440ff57</td>\n",
       "      <td>10000</td>\n",
       "      <td>85.347324</td>\n",
       "      <td>27.679172</td>\n",
       "      <td>Unique Boys Hostel Unique Boys Hostel prefers ...</td>\n",
       "    </tr>\n",
       "    <tr>\n",
       "      <th>30</th>\n",
       "      <td>64c3a749fc06642f2440ff5a</td>\n",
       "      <td>10000</td>\n",
       "      <td>85.323315</td>\n",
       "      <td>27.705383</td>\n",
       "      <td>Hostel Times Times Boys Hostel, especially for...</td>\n",
       "    </tr>\n",
       "    <tr>\n",
       "      <th>31</th>\n",
       "      <td>64c3a7ccfc06642f2440ff5d</td>\n",
       "      <td>10000</td>\n",
       "      <td>85.282302</td>\n",
       "      <td>27.674993</td>\n",
       "      <td>Aayusha Girls Hostel Aayusha Girls Hostel is p...</td>\n",
       "    </tr>\n",
       "    <tr>\n",
       "      <th>32</th>\n",
       "      <td>64c3a86efc06642f2440ff60</td>\n",
       "      <td>10000</td>\n",
       "      <td>85.340747</td>\n",
       "      <td>27.670741</td>\n",
       "      <td>Namaste Girls Hostel Namaste Girls Hostel aims...</td>\n",
       "    </tr>\n",
       "    <tr>\n",
       "      <th>33</th>\n",
       "      <td>64c3a8d2fc06642f2440ff63</td>\n",
       "      <td>9000</td>\n",
       "      <td>85.336297</td>\n",
       "      <td>27.693075</td>\n",
       "      <td>Kanya Chhatrabaas Kanya Chhatrabaas is for wom...</td>\n",
       "    </tr>\n",
       "    <tr>\n",
       "      <th>34</th>\n",
       "      <td>64c3aa1ffc06642f2440ff69</td>\n",
       "      <td>12000</td>\n",
       "      <td>85.321968</td>\n",
       "      <td>27.705193</td>\n",
       "      <td>Surya Binayak Boys Hostel Surya Binayak Boys H...</td>\n",
       "    </tr>\n",
       "    <tr>\n",
       "      <th>35</th>\n",
       "      <td>64c3aab8fc06642f2440ff6c</td>\n",
       "      <td>9500</td>\n",
       "      <td>85.338684</td>\n",
       "      <td>27.685019</td>\n",
       "      <td>Panchakanya Girls Hostel Panchakanya Girls Hos...</td>\n",
       "    </tr>\n",
       "    <tr>\n",
       "      <th>36</th>\n",
       "      <td>64c3ab0efc06642f2440ff6f</td>\n",
       "      <td>9999</td>\n",
       "      <td>85.323150</td>\n",
       "      <td>27.692272</td>\n",
       "      <td>Goodone Boys Hostel Goodone Boys Hostel is loc...</td>\n",
       "    </tr>\n",
       "    <tr>\n",
       "      <th>37</th>\n",
       "      <td>64c3ab69fc06642f2440ff72</td>\n",
       "      <td>10000</td>\n",
       "      <td>85.333232</td>\n",
       "      <td>27.684375</td>\n",
       "      <td>Srijana Girls Hostel Srijana Girls Hostel situ...</td>\n",
       "    </tr>\n",
       "    <tr>\n",
       "      <th>38</th>\n",
       "      <td>64c3abe3fc06642f2440ff75</td>\n",
       "      <td>9500</td>\n",
       "      <td>85.340643</td>\n",
       "      <td>27.685096</td>\n",
       "      <td>Brighter Future Girls Hostel Brighter Future g...</td>\n",
       "    </tr>\n",
       "    <tr>\n",
       "      <th>39</th>\n",
       "      <td>64c3ac7afc06642f2440ff78</td>\n",
       "      <td>8998</td>\n",
       "      <td>85.344831</td>\n",
       "      <td>27.699719</td>\n",
       "      <td>Aayush Boys Hostel This is Hostel is located a...</td>\n",
       "    </tr>\n",
       "    <tr>\n",
       "      <th>40</th>\n",
       "      <td>64c3acddfc06642f2440ff7b</td>\n",
       "      <td>9000</td>\n",
       "      <td>85.347346</td>\n",
       "      <td>27.699214</td>\n",
       "      <td>Model Boys Hostel This is Hostel is located at...</td>\n",
       "    </tr>\n",
       "    <tr>\n",
       "      <th>41</th>\n",
       "      <td>64c3ad73fc06642f2440ff7e</td>\n",
       "      <td>9500</td>\n",
       "      <td>85.327843</td>\n",
       "      <td>27.694286</td>\n",
       "      <td>Best Girls Hostel Being Best Girls Hostel in t...</td>\n",
       "    </tr>\n",
       "    <tr>\n",
       "      <th>42</th>\n",
       "      <td>64c3adddfc06642f2440ff81</td>\n",
       "      <td>10000</td>\n",
       "      <td>85.341509</td>\n",
       "      <td>27.705676</td>\n",
       "      <td>Royal Inn Boys Hostel We believe in comfort an...</td>\n",
       "    </tr>\n",
       "    <tr>\n",
       "      <th>43</th>\n",
       "      <td>64c3aeffcc2695cc982ef8d1</td>\n",
       "      <td>9500</td>\n",
       "      <td>85.328283</td>\n",
       "      <td>27.687243</td>\n",
       "      <td>Diamond Boys Hostel Diamond Boys Hostel which ...</td>\n",
       "    </tr>\n",
       "    <tr>\n",
       "      <th>44</th>\n",
       "      <td>64c3af5bcc2695cc982ef8d4</td>\n",
       "      <td>9500</td>\n",
       "      <td>85.350423</td>\n",
       "      <td>27.699184</td>\n",
       "      <td>Mahalaxmi Girls Hostel Mahalaxmi hostel, locat...</td>\n",
       "    </tr>\n",
       "    <tr>\n",
       "      <th>45</th>\n",
       "      <td>64c3afeecc2695cc982ef8d7</td>\n",
       "      <td>10000</td>\n",
       "      <td>85.328205</td>\n",
       "      <td>27.688182</td>\n",
       "      <td>Mero Girls Hostel Best girls hostel in the tow...</td>\n",
       "    </tr>\n",
       "    <tr>\n",
       "      <th>46</th>\n",
       "      <td>64c3b05ecc2695cc982ef8db</td>\n",
       "      <td>10000</td>\n",
       "      <td>85.312655</td>\n",
       "      <td>27.724955</td>\n",
       "      <td>Kalash Boys Hostel Best boys hostel in the tow...</td>\n",
       "    </tr>\n",
       "    <tr>\n",
       "      <th>47</th>\n",
       "      <td>64c3b10dcc2695cc982ef8de</td>\n",
       "      <td>9598</td>\n",
       "      <td>85.311697</td>\n",
       "      <td>27.716883</td>\n",
       "      <td>Elbrus Home The home lies near from tourist hu...</td>\n",
       "    </tr>\n",
       "    <tr>\n",
       "      <th>48</th>\n",
       "      <td>64c3b1b3cc2695cc982ef8e8</td>\n",
       "      <td>10500</td>\n",
       "      <td>85.328280</td>\n",
       "      <td>27.701735</td>\n",
       "      <td>Mother Care Boys Hostel Mother Care Boys Hoste...</td>\n",
       "    </tr>\n",
       "    <tr>\n",
       "      <th>49</th>\n",
       "      <td>64c3b40dcc2695cc982ef8f3</td>\n",
       "      <td>12500</td>\n",
       "      <td>85.342960</td>\n",
       "      <td>27.678767</td>\n",
       "      <td>Sanjibini Boys hostel It is situated at the he...</td>\n",
       "    </tr>\n",
       "  </tbody>\n",
       "</table>\n",
       "</div>"
      ],
      "text/plain": [
       "                         _id  price        lng        lat  \\\n",
       "0   64c387aefc06642f2440febe  10500  85.333417  27.703133   \n",
       "1   64c38877fc06642f2440fec9   9500  85.327202  27.705343   \n",
       "2   64c388dbfc06642f2440fecc   9500  85.330546  27.708978   \n",
       "3   64c389d6fc06642f2440fed7   9499  85.328554  27.706303   \n",
       "4   64c38b06fc06642f2440feda  10000  85.328221  27.704821   \n",
       "5   64c38baffc06642f2440fedd   9998  85.323574  27.705715   \n",
       "6   64c38c59fc06642f2440fee0  11000  85.328574  27.701492   \n",
       "7   64c38cd4fc06642f2440fee3   9498  85.340689  27.702040   \n",
       "8   64c38d80fc06642f2440fee6   9499  85.323574  27.705715   \n",
       "9   64c38fc5fc06642f2440fef7  10000  85.328899  27.692926   \n",
       "10  64c3916ffc06642f2440fefc   9500  85.332398  27.703880   \n",
       "11  64c39289fc06642f2440feff   9500  85.326719  27.690674   \n",
       "12  64c393eefc06642f2440ff02  10000  85.346521  27.684178   \n",
       "13  64c39627fc06642f2440ff0e  10000  85.337838  27.690617   \n",
       "14  64c396dafc06642f2440ff12   9498  85.323379  27.705876   \n",
       "15  64c397b0fc06642f2440ff15   9500  85.338072  27.692621   \n",
       "16  64c3989afc06642f2440ff18   9500  85.350423  27.699184   \n",
       "17  64c399c5fc06642f2440ff1b  11500  85.323876  27.700940   \n",
       "18  64c39a98fc06642f2440ff1e  10000  85.327530  27.705463   \n",
       "19  64c39e42fc06642f2440ff2a   9500  85.319364  27.705502   \n",
       "20  64c39ebffc06642f2440ff2d   9500  85.339572  27.724217   \n",
       "21  64c39f5ffc06642f2440ff30  10000  85.340804  27.692629   \n",
       "22  64c3a1b9fc06642f2440ff36   9500  85.345611  27.684622   \n",
       "23  64c3a23bfc06642f2440ff39   9000  85.342568  27.687480   \n",
       "24  64c3a314fc06642f2440ff3e   9500  85.345803  27.683149   \n",
       "25  64c3a3aefc06642f2440ff41   9500  85.335972  27.705841   \n",
       "26  64c3a45cfc06642f2440ff44   9500  85.329258  27.687234   \n",
       "27  64c3a4eafc06642f2440ff47   9500  85.306774  27.720559   \n",
       "28  64c3a5b8fc06642f2440ff4a   9500  85.327868  27.693775   \n",
       "29  64c3a6dcfc06642f2440ff57  10000  85.347324  27.679172   \n",
       "30  64c3a749fc06642f2440ff5a  10000  85.323315  27.705383   \n",
       "31  64c3a7ccfc06642f2440ff5d  10000  85.282302  27.674993   \n",
       "32  64c3a86efc06642f2440ff60  10000  85.340747  27.670741   \n",
       "33  64c3a8d2fc06642f2440ff63   9000  85.336297  27.693075   \n",
       "34  64c3aa1ffc06642f2440ff69  12000  85.321968  27.705193   \n",
       "35  64c3aab8fc06642f2440ff6c   9500  85.338684  27.685019   \n",
       "36  64c3ab0efc06642f2440ff6f   9999  85.323150  27.692272   \n",
       "37  64c3ab69fc06642f2440ff72  10000  85.333232  27.684375   \n",
       "38  64c3abe3fc06642f2440ff75   9500  85.340643  27.685096   \n",
       "39  64c3ac7afc06642f2440ff78   8998  85.344831  27.699719   \n",
       "40  64c3acddfc06642f2440ff7b   9000  85.347346  27.699214   \n",
       "41  64c3ad73fc06642f2440ff7e   9500  85.327843  27.694286   \n",
       "42  64c3adddfc06642f2440ff81  10000  85.341509  27.705676   \n",
       "43  64c3aeffcc2695cc982ef8d1   9500  85.328283  27.687243   \n",
       "44  64c3af5bcc2695cc982ef8d4   9500  85.350423  27.699184   \n",
       "45  64c3afeecc2695cc982ef8d7  10000  85.328205  27.688182   \n",
       "46  64c3b05ecc2695cc982ef8db  10000  85.312655  27.724955   \n",
       "47  64c3b10dcc2695cc982ef8de   9598  85.311697  27.716883   \n",
       "48  64c3b1b3cc2695cc982ef8e8  10500  85.328280  27.701735   \n",
       "49  64c3b40dcc2695cc982ef8f3  12500  85.342960  27.678767   \n",
       "\n",
       "                                                 tags  \n",
       "0   Five Star Boys Hostel Five Star Boys Hostel on...  \n",
       "1   Third Eyes Boys Hostel Third Eye Boys Hostel o...  \n",
       "2   Shivam Boys Hostel Shivam Boys Hostel is locat...  \n",
       "3   Nepzone Boys Hostel Nepzone Boys Hostel is loc...  \n",
       "4   Samunnati Boys Hostel Samunnati Boys Hostel ca...  \n",
       "5   City Delux Boys Hostel City Deluxe Boys Hostel...  \n",
       "6   Yakso Boys Hostel Yakso Boys Hostel offers aff...  \n",
       "7   Siddhababa Boys Hostel Sidhababa Boys Hostel i...  \n",
       "8   Samul Boys Hostel Samul Boys Hostel offers you...  \n",
       "9   Peaceful Girls Hostel Peaceful Girls Hostel fa...  \n",
       "10  Balaji Boys Hostel Balaji Boys Hostel has focu...  \n",
       "11  New Hill Boys Hostel New Hill Boys Hostel serv...  \n",
       "12  AR Boys Hostel A R Boys Hostel located at Mith...  \n",
       "13  Novelty Boys Hostel Novelty Boys Hostel prefer...  \n",
       "14  Mount Everest Boys Hostel Meet people from all...  \n",
       "15  Happy Home Boys Hostel Happy Home Boys Hostel ...  \n",
       "16  Swarnim And Srijan Girls Hostel Happy Home Boy...  \n",
       "17  Sunrise Boys Hostel Sunrise Boys Hostel which ...  \n",
       "18  Kamana Care Hostel Kamana Care Home located at...  \n",
       "19  Shrija Girls Hostel Shrija Girls Hostel hostel...  \n",
       "20  Sunrise Girls Hostel Sunrise Girls Hostel,loca...  \n",
       "21  Kathmandu Girl Hostel Kathmandu Girls Hostel, ...  \n",
       "22  Shree Laxmi Girls Hostel Shree laxmi Girls Hos...  \n",
       "23  Everest Boys Hostel Mount Everest Boys Hostel ...  \n",
       "24  Om Maha Laxmi Boys Hostel Om Maha Laxmi Boys H...  \n",
       "25  Jharna Boys Hostel Jharna Boys Hostel offers y...  \n",
       "26  Kamakhya Boys Hostel Kamakhya Boys Hostel is l...  \n",
       "27  Bagmati Boys Hostel Bagmati Boys Hostel tends ...  \n",
       "28  Darpan Boys Hostel Darpan Boys Hostel located ...  \n",
       "29  Unique Boys Hostel Unique Boys Hostel prefers ...  \n",
       "30  Hostel Times Times Boys Hostel, especially for...  \n",
       "31  Aayusha Girls Hostel Aayusha Girls Hostel is p...  \n",
       "32  Namaste Girls Hostel Namaste Girls Hostel aims...  \n",
       "33  Kanya Chhatrabaas Kanya Chhatrabaas is for wom...  \n",
       "34  Surya Binayak Boys Hostel Surya Binayak Boys H...  \n",
       "35  Panchakanya Girls Hostel Panchakanya Girls Hos...  \n",
       "36  Goodone Boys Hostel Goodone Boys Hostel is loc...  \n",
       "37  Srijana Girls Hostel Srijana Girls Hostel situ...  \n",
       "38  Brighter Future Girls Hostel Brighter Future g...  \n",
       "39  Aayush Boys Hostel This is Hostel is located a...  \n",
       "40  Model Boys Hostel This is Hostel is located at...  \n",
       "41  Best Girls Hostel Being Best Girls Hostel in t...  \n",
       "42  Royal Inn Boys Hostel We believe in comfort an...  \n",
       "43  Diamond Boys Hostel Diamond Boys Hostel which ...  \n",
       "44  Mahalaxmi Girls Hostel Mahalaxmi hostel, locat...  \n",
       "45  Mero Girls Hostel Best girls hostel in the tow...  \n",
       "46  Kalash Boys Hostel Best boys hostel in the tow...  \n",
       "47  Elbrus Home The home lies near from tourist hu...  \n",
       "48  Mother Care Boys Hostel Mother Care Boys Hoste...  \n",
       "49  Sanjibini Boys hostel It is situated at the he...  "
      ]
     },
     "execution_count": 66,
     "metadata": {},
     "output_type": "execute_result"
    }
   ],
   "source": [
    "new_df"
   ]
  },
  {
   "cell_type": "code",
   "execution_count": 67,
   "id": "a89b9dd0",
   "metadata": {},
   "outputs": [
    {
     "data": {
      "text/plain": [
       "'Five Star Boys Hostel Five Star Boys Hostel one of the hostels in Kathmandu located in Maitidevi gains popularity day by day by servicing its students, providing required facilities, and making them involved in different creative activities. Prices: Single Seater - Rs.16000, 2 Seater - Rs.11500, 3 Seater - Rs.11000, 4 Seater - Rs.10500. Maitidevi, Kathmandu, Bagmati, Nepal 24 hours electricity,Hot and Cold water,Laundary,Wifi,Locker room,Parking Lot,Security Guard,CCTV'"
      ]
     },
     "execution_count": 67,
     "metadata": {},
     "output_type": "execute_result"
    }
   ],
   "source": [
    "new_df['tags'][0]"
   ]
  },
  {
   "cell_type": "code",
   "execution_count": 68,
   "id": "014ac412",
   "metadata": {},
   "outputs": [
    {
     "name": "stderr",
     "output_type": "stream",
     "text": [
      "C:\\Users\\empsw\\AppData\\Local\\Temp\\ipykernel_4168\\3214958533.py:1: SettingWithCopyWarning: \n",
      "A value is trying to be set on a copy of a slice from a DataFrame.\n",
      "Try using .loc[row_indexer,col_indexer] = value instead\n",
      "\n",
      "See the caveats in the documentation: https://pandas.pydata.org/pandas-docs/stable/user_guide/indexing.html#returning-a-view-versus-a-copy\n",
      "  new_df['tags'] = new_df['tags'].apply(lambda x:x.lower())\n"
     ]
    }
   ],
   "source": [
    "new_df['tags'] = new_df['tags'].apply(lambda x:x.lower())"
   ]
  },
  {
   "cell_type": "code",
   "execution_count": 69,
   "id": "cba514bf",
   "metadata": {},
   "outputs": [
    {
     "data": {
      "text/plain": [
       "'five star boys hostel five star boys hostel one of the hostels in kathmandu located in maitidevi gains popularity day by day by servicing its students, providing required facilities, and making them involved in different creative activities. prices: single seater - rs.16000, 2 seater - rs.11500, 3 seater - rs.11000, 4 seater - rs.10500. maitidevi, kathmandu, bagmati, nepal 24 hours electricity,hot and cold water,laundary,wifi,locker room,parking lot,security guard,cctv'"
      ]
     },
     "execution_count": 69,
     "metadata": {},
     "output_type": "execute_result"
    }
   ],
   "source": [
    "new_df['tags'][0]"
   ]
  },
  {
   "cell_type": "code",
   "execution_count": 70,
   "id": "cf8a7ab8",
   "metadata": {},
   "outputs": [
    {
     "name": "stdout",
     "output_type": "stream",
     "text": [
      "Requirement already satisfied: nltk in c:\\users\\empsw\\anaconda3\\lib\\site-packages (3.7)\n",
      "Requirement already satisfied: click in c:\\users\\empsw\\anaconda3\\lib\\site-packages (from nltk) (8.0.4)\n",
      "Requirement already satisfied: joblib in c:\\users\\empsw\\anaconda3\\lib\\site-packages (from nltk) (1.2.0)\n",
      "Requirement already satisfied: regex>=2021.8.3 in c:\\users\\empsw\\anaconda3\\lib\\site-packages (from nltk) (2022.7.9)\n",
      "Requirement already satisfied: tqdm in c:\\users\\empsw\\anaconda3\\lib\\site-packages (from nltk) (4.65.0)\n",
      "Requirement already satisfied: colorama in c:\\users\\empsw\\anaconda3\\lib\\site-packages (from click->nltk) (0.4.6)\n"
     ]
    }
   ],
   "source": [
    "!pip install nltk"
   ]
  },
  {
   "cell_type": "code",
   "execution_count": 71,
   "id": "ffd48994",
   "metadata": {},
   "outputs": [],
   "source": [
    "import nltk"
   ]
  },
  {
   "cell_type": "code",
   "execution_count": 72,
   "id": "ea7bf9da",
   "metadata": {},
   "outputs": [],
   "source": [
    "from nltk.stem.porter import PorterStemmer\n",
    "ps = PorterStemmer()"
   ]
  },
  {
   "cell_type": "code",
   "execution_count": 73,
   "id": "6e043773",
   "metadata": {},
   "outputs": [],
   "source": [
    "def stem(text):\n",
    "    y = []\n",
    "    \n",
    "    for i in text.split():\n",
    "        y.append(ps.stem(i))\n",
    "        \n",
    "    return \" \".join(y)"
   ]
  },
  {
   "cell_type": "code",
   "execution_count": 74,
   "id": "2d57054c",
   "metadata": {},
   "outputs": [
    {
     "name": "stderr",
     "output_type": "stream",
     "text": [
      "C:\\Users\\empsw\\AppData\\Local\\Temp\\ipykernel_4168\\3213734980.py:1: SettingWithCopyWarning: \n",
      "A value is trying to be set on a copy of a slice from a DataFrame.\n",
      "Try using .loc[row_indexer,col_indexer] = value instead\n",
      "\n",
      "See the caveats in the documentation: https://pandas.pydata.org/pandas-docs/stable/user_guide/indexing.html#returning-a-view-versus-a-copy\n",
      "  new_df['tags'] = new_df['tags'].apply(stem)\n"
     ]
    }
   ],
   "source": [
    "new_df['tags'] = new_df['tags'].apply(stem)"
   ]
  },
  {
   "cell_type": "code",
   "execution_count": 75,
   "id": "52b55043",
   "metadata": {},
   "outputs": [
    {
     "data": {
      "text/plain": [
       "'five star boy hostel five star boy hostel one of the hostel in kathmandu locat in maitidevi gain popular day by day by servic it students, provid requir facilities, and make them involv in differ creativ activities. prices: singl seater - rs.16000, 2 seater - rs.11500, 3 seater - rs.11000, 4 seater - rs.10500. maitidevi, kathmandu, bagmati, nepal 24 hour electricity,hot and cold water,laundary,wifi,lock room,park lot,secur guard,cctv'"
      ]
     },
     "execution_count": 75,
     "metadata": {},
     "output_type": "execute_result"
    }
   ],
   "source": [
    "new_df['tags'][0]"
   ]
  },
  {
   "cell_type": "code",
   "execution_count": 76,
   "id": "87044445",
   "metadata": {},
   "outputs": [
    {
     "data": {
      "text/plain": [
       "'love'"
      ]
     },
     "execution_count": 76,
     "metadata": {},
     "output_type": "execute_result"
    }
   ],
   "source": [
    "ps.stem('loved')"
   ]
  },
  {
   "cell_type": "code",
   "execution_count": 77,
   "id": "cb644061",
   "metadata": {},
   "outputs": [
    {
     "data": {
      "text/plain": [
       "'love'"
      ]
     },
     "execution_count": 77,
     "metadata": {},
     "output_type": "execute_result"
    }
   ],
   "source": [
    "ps.stem('loving')"
   ]
  },
  {
   "cell_type": "code",
   "execution_count": 82,
   "id": "d1cc4aa7",
   "metadata": {},
   "outputs": [],
   "source": [
    "from sklearn.feature_extraction.text import CountVectorizer\n",
    "cv = CountVectorizer(max_features=1000,stop_words='english')"
   ]
  },
  {
   "cell_type": "code",
   "execution_count": 83,
   "id": "ff9da1dc",
   "metadata": {},
   "outputs": [],
   "source": [
    "vectors = cv.fit_transform(new_df['tags']).toarray()"
   ]
  },
  {
   "cell_type": "code",
   "execution_count": 84,
   "id": "066ca70e",
   "metadata": {},
   "outputs": [
    {
     "data": {
      "text/plain": [
       "array([0, 0, 0, 1, 1, 1, 0, 0, 0, 0, 0, 0, 1, 1, 0, 0, 0, 0, 0, 0, 0, 0,\n",
       "       0, 0, 0, 0, 0, 0, 0, 0, 1, 0, 0, 0, 0, 0, 0, 0, 0, 0, 0, 0, 0, 0,\n",
       "       0, 0, 0, 0, 0, 0, 1, 0, 0, 0, 0, 0, 0, 0, 0, 0, 0, 0, 0, 0, 0, 0,\n",
       "       0, 0, 0, 0, 0, 0, 0, 0, 0, 0, 0, 2, 0, 0, 0, 0, 0, 0, 0, 1, 0, 0,\n",
       "       0, 0, 0, 0, 0, 0, 0, 0, 0, 0, 0, 1, 0, 0, 0, 0, 0, 0, 0, 0, 0, 0,\n",
       "       0, 0, 1, 0, 0, 2, 0, 0, 0, 0, 0, 0, 0, 0, 0, 1, 0, 0, 0, 0, 0, 0,\n",
       "       0, 0, 0, 0, 1, 0, 0, 0, 0, 0, 0, 0, 0, 0, 0, 0, 0, 0, 0, 0, 1, 0,\n",
       "       0, 0, 0, 0, 0, 0, 0, 0, 0, 0, 0, 0, 0, 0, 0, 0, 0, 0, 0, 1, 0, 0,\n",
       "       0, 0, 0, 0, 0, 0, 0, 0, 0, 0, 0, 0, 1, 0, 0, 0, 0, 0, 0, 0, 0, 0,\n",
       "       0, 0, 0, 0, 0, 0, 0, 0, 0, 0, 0, 0, 0, 3, 0, 1, 1, 0, 0, 0, 0, 0,\n",
       "       0, 0, 0, 0, 0, 0, 0, 0, 1, 0, 0, 0, 0, 0, 0, 0, 0, 2, 0, 0, 0, 0,\n",
       "       0, 0, 0, 0, 0, 0, 0, 0, 0, 1, 0, 0, 0, 0, 0, 0, 0, 0, 1, 0, 1, 0,\n",
       "       0, 0, 0, 0, 0, 1, 0, 0, 0, 0, 2, 1, 0, 0, 0, 0, 0, 0, 0, 0, 0, 0,\n",
       "       0, 0, 0, 0, 0, 0, 0, 0, 0, 0, 0, 0, 0, 0, 0, 0, 0, 0, 0, 0, 0, 1,\n",
       "       0, 0, 0, 0, 0, 0, 0, 0, 0, 0, 0, 0, 0, 0, 0, 0, 0, 0, 0, 0, 1, 0,\n",
       "       0, 0, 0, 0, 0, 0, 0, 0, 0, 0, 1, 0, 0, 0, 0, 1, 0, 0, 0, 1, 0, 0,\n",
       "       0, 0, 0, 0, 0, 0, 1, 0, 0, 0, 0, 0, 0, 1, 0, 0, 4, 0, 0, 0, 0, 0,\n",
       "       0, 0, 0, 0, 0, 0, 0, 0, 0, 0, 4, 0, 0, 1, 0, 0, 1, 0, 0, 0, 0, 0,\n",
       "       0, 0, 0, 0, 0, 0, 0, 0, 0, 0, 0, 0, 1, 0, 0, 0, 0, 0, 0, 0, 0, 0,\n",
       "       0, 2, 0, 0, 0, 1, 0, 0, 0, 0, 0, 0, 0, 0, 0, 0, 0, 0, 0, 0, 0, 0,\n",
       "       0, 0, 0, 0, 0, 0, 0, 0, 0, 0, 0, 0, 0, 0, 0, 0, 0, 0, 0, 0, 0, 0,\n",
       "       0, 0, 0, 0, 0, 0, 0, 1, 0, 0, 0, 1, 0, 0, 0, 0, 0, 0, 0],\n",
       "      dtype=int64)"
      ]
     },
     "execution_count": 84,
     "metadata": {},
     "output_type": "execute_result"
    }
   ],
   "source": [
    "vectors[0]"
   ]
  },
  {
   "cell_type": "code",
   "execution_count": 88,
   "id": "5f2080f2",
   "metadata": {},
   "outputs": [],
   "source": [
    "feature_names = cv.get_feature_names_out()"
   ]
  },
  {
   "cell_type": "code",
   "execution_count": 90,
   "id": "7df49165",
   "metadata": {},
   "outputs": [],
   "source": [
    "from sklearn.metrics.pairwise import cosine_similarity"
   ]
  },
  {
   "cell_type": "code",
   "execution_count": 91,
   "id": "0de4c5a6",
   "metadata": {},
   "outputs": [],
   "source": [
    "similaritytags = cosine_similarity(vectors)"
   ]
  },
  {
   "cell_type": "code",
   "execution_count": 92,
   "id": "44cd403f",
   "metadata": {},
   "outputs": [
    {
     "data": {
      "text/plain": [
       "array([[1.        , 0.50858153, 0.49000655, ..., 0.24890721, 0.43969585,\n",
       "        0.35391769],\n",
       "       [0.50858153, 1.        , 0.74474568, ..., 0.35939099, 0.58474501,\n",
       "        0.50470424],\n",
       "       [0.49000655, 0.74474568, 1.        , ..., 0.36114822, 0.54997429,\n",
       "        0.49186938],\n",
       "       ...,\n",
       "       [0.24890721, 0.35939099, 0.36114822, ..., 1.        , 0.26819409,\n",
       "        0.31648105],\n",
       "       [0.43969585, 0.58474501, 0.54997429, ..., 0.26819409, 1.        ,\n",
       "        0.44136741],\n",
       "       [0.35391769, 0.50470424, 0.49186938, ..., 0.31648105, 0.44136741,\n",
       "        1.        ]])"
      ]
     },
     "execution_count": 92,
     "metadata": {},
     "output_type": "execute_result"
    }
   ],
   "source": [
    "similaritytags"
   ]
  },
  {
   "cell_type": "code",
   "execution_count": 93,
   "id": "5c18e9a7",
   "metadata": {},
   "outputs": [
    {
     "data": {
      "text/plain": [
       "array([1.        , 0.50858153, 0.49000655, 0.40969803, 0.73223829,\n",
       "       0.46032322, 0.44513406, 0.50202095, 0.46032322, 0.39000527,\n",
       "       0.45878219, 0.56605398, 0.48100649, 0.46415825, 0.42214126,\n",
       "       0.44589438, 0.45518577, 0.52862282, 0.44943516, 0.40069622,\n",
       "       0.39987934, 0.6024971 , 0.36522076, 0.43648986, 0.4132966 ,\n",
       "       0.51241994, 0.47751959, 0.48821155, 0.45949322, 0.42474977,\n",
       "       0.50134821, 0.39051186, 0.39051186, 0.34003312, 0.47329261,\n",
       "       0.40420249, 0.48723285, 0.41261407, 0.37666339, 0.31383427,\n",
       "       0.31127231, 0.61313052, 0.45954761, 0.46408434, 0.40977912,\n",
       "       0.44872385, 0.50076564, 0.24890721, 0.43969585, 0.35391769])"
      ]
     },
     "execution_count": 93,
     "metadata": {},
     "output_type": "execute_result"
    }
   ],
   "source": [
    "similaritytags[0]"
   ]
  },
  {
   "cell_type": "code",
   "execution_count": 94,
   "id": "331939b5",
   "metadata": {},
   "outputs": [],
   "source": [
    "from sklearn.preprocessing import MinMaxScaler"
   ]
  },
  {
   "cell_type": "code",
   "execution_count": 95,
   "id": "2a1ebac9",
   "metadata": {},
   "outputs": [],
   "source": [
    "price_values = new_df['price']"
   ]
  },
  {
   "cell_type": "code",
   "execution_count": 96,
   "id": "ec9575d5",
   "metadata": {},
   "outputs": [],
   "source": [
    "# Initialize the MinMaxScaler\n",
    "scaler = MinMaxScaler()"
   ]
  },
  {
   "cell_type": "code",
   "execution_count": 97,
   "id": "2aa71f15",
   "metadata": {},
   "outputs": [],
   "source": [
    "# Reshape the price values to a 2D array (required by the scaler)\n",
    "price_values_2d = price_values.values.reshape(-1, 1)"
   ]
  },
  {
   "cell_type": "code",
   "execution_count": 98,
   "id": "09cf96c4",
   "metadata": {},
   "outputs": [],
   "source": [
    "# Fit and transform the price values using the scaler\n",
    "normalized_price = scaler.fit_transform(price_values_2d)"
   ]
  },
  {
   "cell_type": "code",
   "execution_count": 99,
   "id": "0140eb81",
   "metadata": {},
   "outputs": [],
   "source": [
    "# Flatten the normalized price values to a 1D array\n",
    "normalized_price = normalized_price.flatten()"
   ]
  },
  {
   "cell_type": "code",
   "execution_count": 100,
   "id": "db5a6862",
   "metadata": {},
   "outputs": [],
   "source": [
    "# Calculate similarity based on price difference\n",
    "price_difference = np.abs(normalized_price - normalized_price[:, np.newaxis])\n",
    "price_similarity = 1 - price_difference"
   ]
  },
  {
   "cell_type": "code",
   "execution_count": 101,
   "id": "f0fc460a",
   "metadata": {},
   "outputs": [
    {
     "data": {
      "text/plain": [
       "array([[1.        , 0.71444889, 0.71444889, ..., 0.7424329 , 1.        ,\n",
       "        0.42889777],\n",
       "       [0.71444889, 1.        , 1.        , ..., 0.97201599, 0.71444889,\n",
       "        0.14334666],\n",
       "       [0.71444889, 1.        , 1.        , ..., 0.97201599, 0.71444889,\n",
       "        0.14334666],\n",
       "       ...,\n",
       "       [0.7424329 , 0.97201599, 0.97201599, ..., 1.        , 0.7424329 ,\n",
       "        0.17133067],\n",
       "       [1.        , 0.71444889, 0.71444889, ..., 0.7424329 , 1.        ,\n",
       "        0.42889777],\n",
       "       [0.42889777, 0.14334666, 0.14334666, ..., 0.17133067, 0.42889777,\n",
       "        1.        ]])"
      ]
     },
     "execution_count": 101,
     "metadata": {},
     "output_type": "execute_result"
    }
   ],
   "source": [
    "price_similarity"
   ]
  },
  {
   "cell_type": "code",
   "execution_count": 102,
   "id": "800db41e",
   "metadata": {},
   "outputs": [
    {
     "data": {
      "text/plain": [
       "array([1.        , 0.71444889, 0.71444889, 0.71416334, 0.85722444,\n",
       "       0.85665334, 0.85722444, 0.71387778, 0.71416334, 0.85722444,\n",
       "       0.71444889, 0.71444889, 0.85722444, 0.85722444, 0.71387778,\n",
       "       0.71444889, 0.71444889, 0.71444889, 0.85722444, 0.71444889,\n",
       "       0.71444889, 0.85722444, 0.71444889, 0.57167333, 0.71444889,\n",
       "       0.71444889, 0.71444889, 0.71444889, 0.71444889, 0.85722444,\n",
       "       0.85722444, 0.85722444, 0.85722444, 0.57167333, 0.57167333,\n",
       "       0.71444889, 0.85693889, 0.85722444, 0.71444889, 0.57110223,\n",
       "       0.57167333, 0.71444889, 0.85722444, 0.71444889, 0.71444889,\n",
       "       0.85722444, 0.85722444, 0.7424329 , 1.        , 0.42889777])"
      ]
     },
     "execution_count": 102,
     "metadata": {},
     "output_type": "execute_result"
    }
   ],
   "source": [
    "price_similarity[0]"
   ]
  },
  {
   "cell_type": "code",
   "execution_count": 103,
   "id": "9d97af7d",
   "metadata": {},
   "outputs": [
    {
     "data": {
      "text/plain": [
       "array([1.        , 0.71444889, 0.71444889, 0.71416334, 0.85722444,\n",
       "       0.85665334, 0.85722444, 0.71387778, 0.71416334, 0.85722444,\n",
       "       0.71444889, 0.71444889, 0.85722444, 0.85722444, 0.71387778,\n",
       "       0.71444889, 0.71444889, 0.71444889, 0.85722444, 0.71444889,\n",
       "       0.71444889, 0.85722444, 0.71444889, 0.57167333, 0.71444889,\n",
       "       0.71444889, 0.71444889, 0.71444889, 0.71444889, 0.85722444,\n",
       "       0.85722444, 0.85722444, 0.85722444, 0.57167333, 0.57167333,\n",
       "       0.71444889, 0.85693889, 0.85722444, 0.71444889, 0.57110223,\n",
       "       0.57167333, 0.71444889, 0.85722444, 0.71444889, 0.71444889,\n",
       "       0.85722444, 0.85722444, 0.7424329 , 1.        , 0.42889777])"
      ]
     },
     "execution_count": 103,
     "metadata": {},
     "output_type": "execute_result"
    }
   ],
   "source": [
    "price_similarity[48]"
   ]
  },
  {
   "cell_type": "code",
   "execution_count": 104,
   "id": "9a78cbbe",
   "metadata": {},
   "outputs": [
    {
     "data": {
      "text/plain": [
       "array([0.71444889, 1.        , 1.        , 0.99971445, 0.85722444,\n",
       "       0.85779555, 0.57167333, 0.9994289 , 0.99971445, 0.85722444,\n",
       "       1.        , 1.        , 0.85722444, 0.85722444, 0.9994289 ,\n",
       "       1.        , 1.        , 0.42889777, 0.85722444, 1.        ,\n",
       "       1.        , 0.85722444, 1.        , 0.85722444, 1.        ,\n",
       "       1.        , 1.        , 1.        , 1.        , 0.85722444,\n",
       "       0.85722444, 0.85722444, 0.85722444, 0.85722444, 0.28612222,\n",
       "       1.        , 0.85750999, 0.85722444, 1.        , 0.85665334,\n",
       "       0.85722444, 1.        , 0.85722444, 1.        , 1.        ,\n",
       "       0.85722444, 0.85722444, 0.97201599, 0.71444889, 0.14334666])"
      ]
     },
     "execution_count": 104,
     "metadata": {},
     "output_type": "execute_result"
    }
   ],
   "source": [
    "price_similarity[2]"
   ]
  },
  {
   "cell_type": "code",
   "execution_count": 105,
   "id": "52b3ec3a",
   "metadata": {},
   "outputs": [],
   "source": [
    "lat_values = new_df['lat'].values\n",
    "lng_values = new_df['lng'].values"
   ]
  },
  {
   "cell_type": "code",
   "execution_count": 106,
   "id": "a73b16ef",
   "metadata": {},
   "outputs": [],
   "source": [
    "from math import radians, sin, cos, sqrt, atan2"
   ]
  },
  {
   "cell_type": "code",
   "execution_count": 107,
   "id": "d58c34af",
   "metadata": {},
   "outputs": [],
   "source": [
    "# Define a function to calculate the Haversine distance\n",
    "def haversine(lat1, lng1, lat2, lng2):\n",
    "    # Convert latitude and longitude from degrees to radians\n",
    "    lat1_rad = np.radians(lat1)\n",
    "    lng1_rad = np.radians(lng1)\n",
    "    lat2_rad = np.radians(lat2)\n",
    "    lng2_rad = np.radians(lng2)\n",
    "\n",
    "    # Haversine formula\n",
    "    dlat = lat2_rad - lat1_rad\n",
    "    dlng = lng2_rad - lng1_rad\n",
    "    a = np.sin(dlat/2) ** 2 + np.cos(lat1_rad) * np.cos(lat2_rad) * np.sin(dlng/2) ** 2\n",
    "    c = 2 * np.arcsin(np.sqrt(a))\n",
    "    r = 6371  # Radius of the Earth in kilometers\n",
    "    distance = c * r\n",
    "\n",
    "    # Similarity based on distance\n",
    "    similarity = 1 / (1 + distance)\n",
    "\n",
    "    return similarity"
   ]
  },
  {
   "cell_type": "code",
   "execution_count": 108,
   "id": "df412cac",
   "metadata": {},
   "outputs": [],
   "source": [
    "distance_similarity = haversine(lat_values[:, np.newaxis], lng_values[np.newaxis, :], lat_values[np.newaxis, :], lng_values[:, np.newaxis])"
   ]
  },
  {
   "cell_type": "code",
   "execution_count": 109,
   "id": "3636c12b",
   "metadata": {},
   "outputs": [
    {
     "data": {
      "text/plain": [
       "array([[1.        , 0.60264876, 0.58524701, ..., 0.27559088, 0.65396849,\n",
       "        0.25855195],\n",
       "       [0.60264876, 1.        , 0.65734885, ..., 0.33399508, 0.70670973,\n",
       "        0.23053818],\n",
       "       [0.58524701, 0.65734885, 1.        , ..., 0.32752292, 0.54474803,\n",
       "        0.21859253],\n",
       "       ...,\n",
       "       [0.27559088, 0.33399508, 0.32752292, ..., 1.        , 0.29889702,\n",
       "        0.16030676],\n",
       "       [0.65396849, 0.70670973, 0.54474803, ..., 0.29889702, 1.        ,\n",
       "        0.25415554],\n",
       "       [0.25855195, 0.23053818, 0.21859253, ..., 0.16030676, 0.25415554,\n",
       "        1.        ]])"
      ]
     },
     "execution_count": 109,
     "metadata": {},
     "output_type": "execute_result"
    }
   ],
   "source": [
    "distance_similarity"
   ]
  },
  {
   "cell_type": "code",
   "execution_count": 110,
   "id": "e12eacb3",
   "metadata": {},
   "outputs": [
    {
     "data": {
      "text/plain": [
       "array([1.        , 0.60264876, 0.58524701, 0.62716649, 0.64731305,\n",
       "       0.49735046, 0.66200335, 0.57931938, 0.49735046, 0.45064202,\n",
       "       0.88476379, 0.39457513, 0.28808426, 0.40679676, 0.4915851 ,\n",
       "       0.44336089, 0.36618898, 0.50749941, 0.6117014 , 0.41523061,\n",
       "       0.29227667, 0.42089842, 0.29560902, 0.33785081, 0.28290503,\n",
       "       0.71817343, 0.35527537, 0.23469105, 0.45971578, 0.25027668,\n",
       "       0.49369545, 0.14437867, 0.21397738, 0.46429498, 0.46508011,\n",
       "       0.32469403, 0.38836657, 0.32405645, 0.31969193, 0.45743169,\n",
       "       0.41001491, 0.47027748, 0.54190841, 0.35238518, 0.36618898,\n",
       "       0.3649782 , 0.23966292, 0.27559088, 0.65396849, 0.25855195])"
      ]
     },
     "execution_count": 110,
     "metadata": {},
     "output_type": "execute_result"
    }
   ],
   "source": [
    "distance_similarity[0]"
   ]
  },
  {
   "cell_type": "code",
   "execution_count": 111,
   "id": "22beccbe",
   "metadata": {},
   "outputs": [],
   "source": [
    "#weight for combined similarity\n",
    "weight_tags = 0.3\n",
    "weight_price = 0.3 \n",
    "weight_distance = 0.4"
   ]
  },
  {
   "cell_type": "code",
   "execution_count": 112,
   "id": "7253fdc7",
   "metadata": {},
   "outputs": [],
   "source": [
    "combined_similarity = (\n",
    "    weight_tags * similaritytags +\n",
    "    weight_price * price_similarity +\n",
    "    weight_distance * distance_similarity\n",
    ")"
   ]
  },
  {
   "cell_type": "code",
   "execution_count": 113,
   "id": "16e7ee73",
   "metadata": {},
   "outputs": [
    {
     "data": {
      "text/plain": [
       "array([[1.        , 0.60796863, 0.59543544, ..., 0.40763838, 0.69349615,\n",
       "        0.33826542],\n",
       "       [0.60796863, 1.        , 0.78636324, ..., 0.53302012, 0.67244206,\n",
       "        0.28663054],\n",
       "       [0.59543544, 0.78636324, 1.        , ..., 0.53095843, 0.59722617,\n",
       "        0.27800182],\n",
       "       ...,\n",
       "       [0.40763838, 0.53302012, 0.53095843, ..., 1.        , 0.42274691,\n",
       "        0.21046622],\n",
       "       [0.69349615, 0.67244206, 0.59722617, ..., 0.42274691, 1.        ,\n",
       "        0.36274177],\n",
       "       [0.33826542, 0.28663054, 0.27800182, ..., 0.21046622, 0.36274177,\n",
       "        1.        ]])"
      ]
     },
     "execution_count": 113,
     "metadata": {},
     "output_type": "execute_result"
    }
   ],
   "source": [
    "combined_similarity"
   ]
  },
  {
   "cell_type": "code",
   "execution_count": 114,
   "id": "a8d7d003",
   "metadata": {},
   "outputs": [
    {
     "data": {
      "text/plain": [
       "array([1.        , 0.60796863, 0.59543544, 0.58802501, 0.73576404,\n",
       "       0.59403315, 0.65550889, 0.59649737, 0.55128615, 0.55442572,\n",
       "       0.70587484, 0.54198091, 0.51670298, 0.55913351, 0.53743975,\n",
       "       0.52544734, 0.49736599, 0.57592127, 0.63667844, 0.50063578,\n",
       "       0.45120914, 0.60627583, 0.4421445 , 0.43758928, 0.45148566,\n",
       "       0.65533002, 0.49970069, 0.45467455, 0.53606895, 0.48470294,\n",
       "       0.60504998, 0.43207236, 0.45991184, 0.45922993, 0.49952182,\n",
       "       0.46547302, 0.55859815, 0.51057413, 0.45521045, 0.44845363,\n",
       "       0.42888966, 0.58638482, 0.61179498, 0.49451404, 0.48374399,\n",
       "       0.53777577, 0.50326219, 0.40763838, 0.69349615, 0.33826542])"
      ]
     },
     "execution_count": 114,
     "metadata": {},
     "output_type": "execute_result"
    }
   ],
   "source": [
    "combined_similarity[0]"
   ]
  },
  {
   "cell_type": "code",
   "execution_count": 115,
   "id": "e8ed5f85",
   "metadata": {},
   "outputs": [
    {
     "data": {
      "text/plain": [
       "(50,)"
      ]
     },
     "execution_count": 115,
     "metadata": {},
     "output_type": "execute_result"
    }
   ],
   "source": [
    "combined_similarity[0].shape"
   ]
  },
  {
   "cell_type": "code",
   "execution_count": 116,
   "id": "db94349e",
   "metadata": {},
   "outputs": [
    {
     "data": {
      "text/plain": [
       "[(0, 1.0),\n",
       " (4, 0.7357640366852596),\n",
       " (10, 0.7058748402479099),\n",
       " (48, 0.6934961522946308),\n",
       " (6, 0.6555088887487255),\n",
       " (25, 0.6553300203306327),\n",
       " (18, 0.6366784417264493),\n",
       " (42, 0.6117949787995551),\n",
       " (1, 0.6079686315920283),\n",
       " (21, 0.6062758323682873),\n",
       " (30, 0.6050499763581042),\n",
       " (7, 0.5964973727937858),\n",
       " (2, 0.5954354350214976),\n",
       " (5, 0.5940331529208326),\n",
       " (3, 0.5880250057826649),\n",
       " (41, 0.5863848150210298),\n",
       " (17, 0.5759212745779594),\n",
       " (13, 0.5591335092896461),\n",
       " (36, 0.5585981509958323),\n",
       " (9, 0.554425722274039),\n",
       " (8, 0.5512861512075259),\n",
       " (11, 0.5419809134232273),\n",
       " (45, 0.5377757681264943),\n",
       " (14, 0.5374397520285638),\n",
       " (28, 0.536068945724361),\n",
       " (15, 0.5254473366593131),\n",
       " (12, 0.5167029831929876),\n",
       " (37, 0.5105741316569214),\n",
       " (46, 0.5032621937755725),\n",
       " (19, 0.5006357774007161),\n",
       " (26, 0.4997006907403456),\n",
       " (34, 0.4995218228765913),\n",
       " (16, 0.497365989799078),\n",
       " (43, 0.4945140391226819),\n",
       " (29, 0.4847029381705192),\n",
       " (44, 0.48374399410715074),\n",
       " (35, 0.4654730228223317),\n",
       " (32, 0.45991184489215753),\n",
       " (33, 0.459229927077325),\n",
       " (38, 0.4552104541960282),\n",
       " (27, 0.454674551565158),\n",
       " (24, 0.4514856567274303),\n",
       " (20, 0.4512091360374345),\n",
       " (39, 0.44845362544621226),\n",
       " (22, 0.44214450107383096),\n",
       " (23, 0.4375892777796937),\n",
       " (31, 0.43207236028133933),\n",
       " (40, 0.42888965735218293),\n",
       " (47, 0.40763838346291964),\n",
       " (49, 0.33826541740739335)]"
      ]
     },
     "execution_count": 116,
     "metadata": {},
     "output_type": "execute_result"
    }
   ],
   "source": [
    "sorted(list(enumerate(combined_similarity[0])),reverse=True,key=lambda x:x[1])"
   ]
  },
  {
   "cell_type": "code",
   "execution_count": 117,
   "id": "22fff878",
   "metadata": {},
   "outputs": [
    {
     "data": {
      "text/plain": [
       "[(4, 0.7357640366852596),\n",
       " (10, 0.7058748402479099),\n",
       " (48, 0.6934961522946308),\n",
       " (6, 0.6555088887487255),\n",
       " (25, 0.6553300203306327)]"
      ]
     },
     "execution_count": 117,
     "metadata": {},
     "output_type": "execute_result"
    }
   ],
   "source": [
    "sorted(list(enumerate(combined_similarity[0])),reverse=True,key=lambda x:x[1])[1:6]"
   ]
  },
  {
   "cell_type": "code",
   "execution_count": 119,
   "id": "ec8b845a",
   "metadata": {},
   "outputs": [
    {
     "name": "stderr",
     "output_type": "stream",
     "text": [
      "C:\\Users\\empsw\\AppData\\Local\\Temp\\ipykernel_4168\\2081677972.py:1: FutureWarning: Automatic reindexing on DataFrame vs Series comparisons is deprecated and will raise ValueError in a future version. Do `left, right = left.align(right, axis=1, copy=False)` before e.g. `left == right`\n",
      "  new_df[new_df['_id'] == hostels].index[19]\n"
     ]
    },
    {
     "data": {
      "text/plain": [
       "19"
      ]
     },
     "execution_count": 119,
     "metadata": {},
     "output_type": "execute_result"
    }
   ],
   "source": [
    "new_df[new_df['_id'] == hostels].index[19]"
   ]
  },
  {
   "cell_type": "code",
   "execution_count": 122,
   "id": "b6df6319",
   "metadata": {},
   "outputs": [],
   "source": [
    "def recommend(hostels):\n",
    "    hostel_index = new_df[new_df['_id'] == hostels].index[0]\n",
    "    simdistances = combined_similarity[hostel_index]\n",
    "    hostel_list = sorted(list(enumerate(simdistances)), reverse=True, key=lambda x: x[1])[1:5]\n",
    "    for i in hostel_list:\n",
    "        print(new_df.iloc[i[0]]['_id'])"
   ]
  },
  {
   "cell_type": "code",
   "execution_count": 123,
   "id": "c6de2045",
   "metadata": {},
   "outputs": [
    {
     "name": "stdout",
     "output_type": "stream",
     "text": [
      "64c38b06fc06642f2440feda\n",
      "64c3916ffc06642f2440fefc\n",
      "64c3b1b3cc2695cc982ef8e8\n",
      "64c38c59fc06642f2440fee0\n"
     ]
    }
   ],
   "source": [
    "recommend('64c387aefc06642f2440febe')"
   ]
  },
  {
   "cell_type": "code",
   "execution_count": 124,
   "id": "27134cd3",
   "metadata": {},
   "outputs": [
    {
     "name": "stdout",
     "output_type": "stream",
     "text": [
      "64c39a98fc06642f2440ff1e\n",
      "64c38877fc06642f2440fec9\n",
      "64c387aefc06642f2440febe\n",
      "64c389d6fc06642f2440fed7\n"
     ]
    }
   ],
   "source": [
    "recommend('64c38b06fc06642f2440feda')"
   ]
  },
  {
   "cell_type": "code",
   "execution_count": 125,
   "id": "47a78536",
   "metadata": {},
   "outputs": [],
   "source": [
    "import pickle"
   ]
  },
  {
   "cell_type": "code",
   "execution_count": 126,
   "id": "d5772289",
   "metadata": {},
   "outputs": [],
   "source": [
    "pickle.dump(new_df,open('hostels.pkl','wb'))"
   ]
  },
  {
   "cell_type": "code",
   "execution_count": 127,
   "id": "b5042dfd",
   "metadata": {},
   "outputs": [
    {
     "data": {
      "text/plain": [
       "{'_id': {0: '64c387aefc06642f2440febe',\n",
       "  1: '64c38877fc06642f2440fec9',\n",
       "  2: '64c388dbfc06642f2440fecc',\n",
       "  3: '64c389d6fc06642f2440fed7',\n",
       "  4: '64c38b06fc06642f2440feda',\n",
       "  5: '64c38baffc06642f2440fedd',\n",
       "  6: '64c38c59fc06642f2440fee0',\n",
       "  7: '64c38cd4fc06642f2440fee3',\n",
       "  8: '64c38d80fc06642f2440fee6',\n",
       "  9: '64c38fc5fc06642f2440fef7',\n",
       "  10: '64c3916ffc06642f2440fefc',\n",
       "  11: '64c39289fc06642f2440feff',\n",
       "  12: '64c393eefc06642f2440ff02',\n",
       "  13: '64c39627fc06642f2440ff0e',\n",
       "  14: '64c396dafc06642f2440ff12',\n",
       "  15: '64c397b0fc06642f2440ff15',\n",
       "  16: '64c3989afc06642f2440ff18',\n",
       "  17: '64c399c5fc06642f2440ff1b',\n",
       "  18: '64c39a98fc06642f2440ff1e',\n",
       "  19: '64c39e42fc06642f2440ff2a',\n",
       "  20: '64c39ebffc06642f2440ff2d',\n",
       "  21: '64c39f5ffc06642f2440ff30',\n",
       "  22: '64c3a1b9fc06642f2440ff36',\n",
       "  23: '64c3a23bfc06642f2440ff39',\n",
       "  24: '64c3a314fc06642f2440ff3e',\n",
       "  25: '64c3a3aefc06642f2440ff41',\n",
       "  26: '64c3a45cfc06642f2440ff44',\n",
       "  27: '64c3a4eafc06642f2440ff47',\n",
       "  28: '64c3a5b8fc06642f2440ff4a',\n",
       "  29: '64c3a6dcfc06642f2440ff57',\n",
       "  30: '64c3a749fc06642f2440ff5a',\n",
       "  31: '64c3a7ccfc06642f2440ff5d',\n",
       "  32: '64c3a86efc06642f2440ff60',\n",
       "  33: '64c3a8d2fc06642f2440ff63',\n",
       "  34: '64c3aa1ffc06642f2440ff69',\n",
       "  35: '64c3aab8fc06642f2440ff6c',\n",
       "  36: '64c3ab0efc06642f2440ff6f',\n",
       "  37: '64c3ab69fc06642f2440ff72',\n",
       "  38: '64c3abe3fc06642f2440ff75',\n",
       "  39: '64c3ac7afc06642f2440ff78',\n",
       "  40: '64c3acddfc06642f2440ff7b',\n",
       "  41: '64c3ad73fc06642f2440ff7e',\n",
       "  42: '64c3adddfc06642f2440ff81',\n",
       "  43: '64c3aeffcc2695cc982ef8d1',\n",
       "  44: '64c3af5bcc2695cc982ef8d4',\n",
       "  45: '64c3afeecc2695cc982ef8d7',\n",
       "  46: '64c3b05ecc2695cc982ef8db',\n",
       "  47: '64c3b10dcc2695cc982ef8de',\n",
       "  48: '64c3b1b3cc2695cc982ef8e8',\n",
       "  49: '64c3b40dcc2695cc982ef8f3'},\n",
       " 'price': {0: 10500,\n",
       "  1: 9500,\n",
       "  2: 9500,\n",
       "  3: 9499,\n",
       "  4: 10000,\n",
       "  5: 9998,\n",
       "  6: 11000,\n",
       "  7: 9498,\n",
       "  8: 9499,\n",
       "  9: 10000,\n",
       "  10: 9500,\n",
       "  11: 9500,\n",
       "  12: 10000,\n",
       "  13: 10000,\n",
       "  14: 9498,\n",
       "  15: 9500,\n",
       "  16: 9500,\n",
       "  17: 11500,\n",
       "  18: 10000,\n",
       "  19: 9500,\n",
       "  20: 9500,\n",
       "  21: 10000,\n",
       "  22: 9500,\n",
       "  23: 9000,\n",
       "  24: 9500,\n",
       "  25: 9500,\n",
       "  26: 9500,\n",
       "  27: 9500,\n",
       "  28: 9500,\n",
       "  29: 10000,\n",
       "  30: 10000,\n",
       "  31: 10000,\n",
       "  32: 10000,\n",
       "  33: 9000,\n",
       "  34: 12000,\n",
       "  35: 9500,\n",
       "  36: 9999,\n",
       "  37: 10000,\n",
       "  38: 9500,\n",
       "  39: 8998,\n",
       "  40: 9000,\n",
       "  41: 9500,\n",
       "  42: 10000,\n",
       "  43: 9500,\n",
       "  44: 9500,\n",
       "  45: 10000,\n",
       "  46: 10000,\n",
       "  47: 9598,\n",
       "  48: 10500,\n",
       "  49: 12500},\n",
       " 'lng': {0: 85.333417,\n",
       "  1: 85.32720225580238,\n",
       "  2: 85.3305465,\n",
       "  3: 85.32855413470588,\n",
       "  4: 85.32822133251102,\n",
       "  5: 85.323574,\n",
       "  6: 85.32857352578532,\n",
       "  7: 85.340689,\n",
       "  8: 85.323574,\n",
       "  9: 85.32889914436839,\n",
       "  10: 85.33239772622261,\n",
       "  11: 85.32671875028973,\n",
       "  12: 85.3465210664807,\n",
       "  13: 85.33783758600396,\n",
       "  14: 85.32337887540865,\n",
       "  15: 85.3380718,\n",
       "  16: 85.3504227,\n",
       "  17: 85.32387594418685,\n",
       "  18: 85.3275305,\n",
       "  19: 85.31936447234466,\n",
       "  20: 85.3395719,\n",
       "  21: 85.3408038630584,\n",
       "  22: 85.3456112960651,\n",
       "  23: 85.34256754738936,\n",
       "  24: 85.34580304980068,\n",
       "  25: 85.33597244883879,\n",
       "  26: 85.3292582,\n",
       "  27: 85.30677365318923,\n",
       "  28: 85.32786774087447,\n",
       "  29: 85.3473242147162,\n",
       "  30: 85.32331454917829,\n",
       "  31: 85.28230197013835,\n",
       "  32: 85.34074721576792,\n",
       "  33: 85.33629693147344,\n",
       "  34: 85.32196797357335,\n",
       "  35: 85.33868407952588,\n",
       "  36: 85.32315,\n",
       "  37: 85.33323226556047,\n",
       "  38: 85.34064264058526,\n",
       "  39: 85.34483109340283,\n",
       "  40: 85.34734639687093,\n",
       "  41: 85.32784309680756,\n",
       "  42: 85.3415089,\n",
       "  43: 85.32828272014353,\n",
       "  44: 85.3504227,\n",
       "  45: 85.32820482742568,\n",
       "  46: 85.312655,\n",
       "  47: 85.31169687492462,\n",
       "  48: 85.3282796,\n",
       "  49: 85.34296008471142},\n",
       " 'lat': {0: 27.703133,\n",
       "  1: 27.705343214110428,\n",
       "  2: 27.7089777,\n",
       "  3: 27.706302534601942,\n",
       "  4: 27.70482087947633,\n",
       "  5: 27.705715,\n",
       "  6: 27.701491760516163,\n",
       "  7: 27.70204,\n",
       "  8: 27.705715,\n",
       "  9: 27.692925584747695,\n",
       "  10: 27.70387973850174,\n",
       "  11: 27.69067359610281,\n",
       "  12: 27.68417825328231,\n",
       "  13: 27.69061654254732,\n",
       "  14: 27.705876361194285,\n",
       "  15: 27.6926211,\n",
       "  16: 27.6991844,\n",
       "  17: 27.70094008494061,\n",
       "  18: 27.7054629,\n",
       "  19: 27.70550247728185,\n",
       "  20: 27.7242166,\n",
       "  21: 27.692629357728865,\n",
       "  22: 27.684622499653045,\n",
       "  23: 27.687479908949086,\n",
       "  24: 27.68314901849726,\n",
       "  25: 27.705841490019324,\n",
       "  26: 27.6872337,\n",
       "  27: 27.720558952845323,\n",
       "  28: 27.69377511724292,\n",
       "  29: 27.67917232926017,\n",
       "  30: 27.705382785024923,\n",
       "  31: 27.674993156183262,\n",
       "  32: 27.670741349355723,\n",
       "  33: 27.69307478830308,\n",
       "  34: 27.70519294610881,\n",
       "  35: 27.68501945283522,\n",
       "  36: 27.692272,\n",
       "  37: 27.684374924434067,\n",
       "  38: 27.685096443086508,\n",
       "  39: 27.699718692893622,\n",
       "  40: 27.6992136796693,\n",
       "  41: 27.694286472531857,\n",
       "  42: 27.7056762,\n",
       "  43: 27.687242738396776,\n",
       "  44: 27.6991844,\n",
       "  45: 27.68818185678279,\n",
       "  46: 27.724955,\n",
       "  47: 27.7168828006612,\n",
       "  48: 27.7017349,\n",
       "  49: 27.67876684043304},\n",
       " 'tags': {0: 'five star boy hostel five star boy hostel one of the hostel in kathmandu locat in maitidevi gain popular day by day by servic it students, provid requir facilities, and make them involv in differ creativ activities. prices: singl seater - rs.16000, 2 seater - rs.11500, 3 seater - rs.11000, 4 seater - rs.10500. maitidevi, kathmandu, bagmati, nepal 24 hour electricity,hot and cold water,laundary,wifi,lock room,park lot,secur guard,cctv',\n",
       "  1: 'third eye boy hostel third eye boy hostel offer you servic like internet and wifi where there will be 24-hour electr and a hostel warden to monitor the hostelers. thi hostel is posit in dillibazar, kathmandu. bhojan griha, kathmandu, bagmati, nepal 24 hour electricity,hot and cold water,laundary,wifi,lock room,secur guard,park lot,cctv',\n",
       "  2: 'shivam boy hostel shivam boy hostel is locat in gyaneshwor, thi hostel provid differ facil such as 24 hour electr with free internet and wifi services, laundry, and a warden with a peac environment. galaxi public school, dillibajar, kathmandu, bagmati, nepal hot and cold water,24 hour electricity,laundary,wifi,lock room,park lot,secur guard,cctv',\n",
       "  3: 'nepzon boy hostel nepzon boy hostel is locat at the veri core area of kathmandu city. nepzon boy hostel deliv a safe, secured, and admir hospit student environment. it may be the best choic for student who are near dillibazar area. charkhal, dillibazar, kathmandu, bagmati, nepal cctv,secur guard,park lot,lock room,wifi,laundary,hot and cold water',\n",
       "  4: 'samunnati boy hostel samunnati boy hostel can provid a comfort settlement, hygien food, laundri service, and peac environment. it is the best place for student search for a prefer hostel in dillibazar.\\\\r\\\\nprices: rs.10000 - 4 seater, rs.10500 - 3 seater, rs.11500 - 2 seater, rs.14000 - singl seater, rs.9000 - small singl seater. dillibazar, kathmandu, bagmati, nepal 24 hour electricity,hot and cold water,laundary,wifi,lock room,park lot,secur guard,cctv',\n",
       "  5: 'citi delux boy hostel citi delux boy hostel is locat at new plazza road, putalisadak. thi hostel ha all kind of facil like free wi-fi, a locker room, hot water, and 24-hour electricity. putalisadak, kathmandu, bagmati, nepal 24 hour electricity,hot and cold water,wifi,laundary,lock room,park lot,secur guard,cctv',\n",
       "  6: 'yakso boy hostel yakso boy hostel offer afford and comfort live space to the students. locat in ghattekulo, anamnagar which is close to mani schools, colleges, academ institutes, supermarkets, and restaurants. anamnagar, kathmandu, bagmati, nepal 24 hour electricity,laundary,hot and cold water,wifi,lock room,park lot,secur guard,cctv',\n",
       "  7: 'siddhababa boy hostel sidhababa boy hostel is well known for provid the facil such as 24 hour electricity, laundry, internet and wifi along with a proper guidanc from the hostel warden. nea baneshwor center, kathmandu, bagmati, nepal 24 hour electricity,hot and cold water,laundary,wifi,lock room,park lot,secur guard,cctv',\n",
       "  8: 'samul boy hostel samul boy hostel offer you servic like internet and wifi where there will be 24hour of electr and a hostel warden to monitor the hostelers. thi hostel is posit in new plazza, putalisadak, kathmandu. putalisadak, putalisadak, kathmandu, bagmati, nepal 24 hour electricity,hot and cold water,laundary,wifi,lock room,park lot,secur guard,cctv,balcony/terrace,hal food',\n",
       "  9: 'peac girl hostel peac girl hostel facilit to easi access on all public transport, is locat on anamnagar. it can also facilit on servic like 24 hour electricity, peac environ and soon. bhatbhateni super market, kathmandu, bagmati, nepal 24 hour electricity,hot and cold water,wifi,laundary,lock room,park lot,cctv,secur guard',\n",
       "  10: 'balaji boy hostel balaji boy hostel ha focus on prepar the famili type environ with satisfactori facil like 24hr electricity& wi fi, attach toilet/bathroom, hot & cold showers, park space etc. maitidevi, kathmandu, bagmati, nepal 24 hour electricity,hot and cold water,laundary,wifi,lock room,park lot,secur guard,cctv',\n",
       "  11: 'new hill boy hostel new hill boy hostel servic the student with the facil of laundry, internet, and wifi along with the guidanc of a friendli hostel warden. it is locat in a conveni and peac environ at hanumansthan, kathmandu. it ha been provid it servic for the last 16 years. nearbi place deneb academy. baneshwor banquet, eyeplex mall, etc.\\\\r\\\\npricing: one seater: 12500, two seater: 10500, three seater: 9500. babarmahal, kathmandu, bagmati, nepal 24 hour electricity,hot and cold water,laundary,wifi,lock room,park lot,secur guard,cctv',\n",
       "  12: 'ar boy hostel a r boy hostel locat at mithilamarg, tinkun facilit hostel with the internet & free wifi for studi research purpose, 24-hour electricity, laundri services, attach washroom and air conditioner. siddhartha cottage, kathmandu, bagmati, nepal 24 hour electricity,hot and cold water,laundary,wifi,lock room,park lot,secur guard,cctv',\n",
       "  13: 'novelti boy hostel novelti boy hostel prefer in make student do, rather then suggest them. it make student take part in differ activ through inspir them, and through facilit them. republ restaur & bar, new baneshwor, kathmandu, bagmati, nepal 24 hour electricity,hot and cold water,laundary,wifi,lock room,secur guard,park lot,cctv',\n",
       "  14: 'mount everest boy hostel meet peopl from all across nepal while stay with us at mount everest boy and girl hostel. our hostel is a cost-effect altern to expens lodging. we guarante that your stay will be unforgett in thi courteou environ putalisadak, putalisadak, kathmandu, bagmati, nepal 24 hour electricity,hot and cold water,laundary,wifi,lock room,park lot,secur guard,cctv',\n",
       "  15: 'happi home boy hostel happi home boy hostel ha a peac and famili environ where you can get laundri servic with a hostel warden to observe, thi hostel ha other facil like the internet and free wifi and 24hour electricity. happi home boy hostel is situat in the new baneshwor which come under one of the largest residenti area of kathmandu. devkota sadak, kathmandu, bagmati, nepal 24 hour electricity,hot and cold water,wifi,laundary,park lot,lock room,secur guard,cctv',\n",
       "  16: 'swarnim and srijan girl hostel happi home boy hostel ha a peac and famili environ where you can get laundri servic with a hostel warden to observe, thi hostel ha other facil like the internet and free wifi and 24hour electricity. happi home boy hostel is situat in the new baneshwor which come under one of the largest residenti area of kathmandu. sinamangal, kathmandu, bagmati, nepal 24 hour electricity,hot and cold water,laundary,wifi,lock room,park lot,secur guard,cctv',\n",
       "  17: 'sunris boy hostel sunris boy hostel which is locat at bijulibajar, mayb the perfect place for those are search hostel with updat facilities. it ha a facil like 24 hour electricity, free wifi access, free laundri and other more.\\\\r\\\\nrs.11500 - 4 seater\\\\r\\\\nrs.12000 - 2/3 seater\\\\r\\\\nrs.12500 - attach room baggikhana, kathmandu, bagmati, nepal 24 hour electricity,hot and cold water,laundary,wifi,park lot,lock room,secur guard,cctv',\n",
       "  18: 'kamana care hostel kamana care home locat at kalikasthan, kathmandu provid home environ along with 24 hour electricity, free wifi, hostel warden, and laundri facilities. charkhal, dillibazar, kathmandu, bagmati, nepal 24 hour electricity,hot and cold water,laundary,wifi,lock room,park lot,secur guard,cctv',\n",
       "  19: 'shrija girl hostel shrija girl hostel hostel situat in new plazza, putalisadak is a peace, clean and a home environ for the student.it emphasi on develop of creativ thought through peac environment. singhadurbar, singhadurbar, kathmandu, bagmati, nepal 24 hour electricity,hot and cold water,laundary,wifi,lock room,park lot,secur guard,cctv',\n",
       "  20: 'sunris girl hostel sunris girl hostel,loc at dhumbarahi ha a qualiti servic at afford price. it ha an aim to serv students, rather then earn money. baluwatar-4, gairidhara, kathmandu, bagmati, nepal 24 hour electricity,hot and cold water,wifi,laundary,lock room,park lot,secur guard,cctv',\n",
       "  21: 'kathmandu girl hostel kathmandu girl hostel, one of the hostel in kathmandu locat in new baneshwor, gain it popular day by day as by servic it students, provid requir facil and make them involv in differ creativ activities. new baneshwor, kathmandu, bagmati, nepal 24 hour electricity,hot and cold water,laundary,wifi,lock room,park lot,secur guard,cctv',\n",
       "  22: 'shree laxmi girl hostel shree laxmi girl hostel pay high attent to hygien food, student friendli environ and entertainments. it ha other facil like hot and cold water accord to the season, free wifi, celebr festivals. kantipur complex, kathmandu, bagmati, nepal 24 hour electricity,hot and cold water,laundary,wifi,lock room,park lot,secur guard,cctv',\n",
       "  23: 'everest boy hostel mount everest boy hostel - like it name, it highli think on servic it student rather then earn money. it provid effici facil focus on the student career, and develop of skills. santinagar, santinagar, kathmandu, bagmati, nepal 24 hour electricity,hot and cold water,laundary,wifi,lock room,park lot,secur guard,cctv',\n",
       "  24: 'om maha laxmi boy hostel om maha laxmi boy hostel offer afford and comfort live space to the students. locat in subidhanagar, tinkun which is close to mani schools, colleges, academ institutes, supermarkets, and restaurants. kwaliti food cafe, kathmandu, bagmati, nepal 24 hour electricity,hot and cold water,laundary,wifi,lock room,park lot,secur guard,cctv',\n",
       "  25: 'jharna boy hostel jharna boy hostel offer you servic like internet and wifi where there will be 24hour of electr and a hostel warden to monitor the hostelers. thi hostel is posit in maitidevi chowk, birendra margha, kathmandu. swacom internatiin hospital, kathmandu, bagmati, nepal 24 hour electricity,hot and cold water,laundary,wifi,lock room,park lot,secur guard,cctv',\n",
       "  26: 'kamakhya boy hostel kamakhya boy hostel is locat at new plazza road, putalisadak. the locat is veri conveni for the students. thi hostel ha all kind of facil like free wi-fi, a locker room, hot water, and 24-hour electricity. ham hospital, buddhanagar, kathmandu, bagmati, nepal 24 hour electricity,hot and cold water,laundary,wifi,lock room,park lot,secur guard,cctv',\n",
       "  27: 'bagmati boy hostel bagmati boy hostel tend for a home environ for student who are tri to acquir higher studi in kathmandu. it is locat at naya bajar, golkupakha. thamel, kathmandu, bagmati, nepal 24 hour electricity,hot and cold water,laundary,wifi,lock room,park lot,secur guard,cctv',\n",
       "  28: 'darpan boy hostel darpan boy hostel locat at hanumansthan, anamnagar ha it own way of servic the student. it pay attent in hygen food, entertainment, hygen environ and other more facilities.\\\\r\\\\n\\\\r\\\\n anamnagar, kathmandu, bagmati, nepal 24 hour electricity,hot and cold water,laundary,wifi,lock room,park lot,cctv,secur guard',\n",
       "  29: 'uniqu boy hostel uniqu boy hostel prefer in make student do, rather than suggest them. it make student take part in differ activ by inspir them and facilit them. it ha 10 room of 3 seaters, 5 room of 2 seaters, and 1 single-seat room. kwaliti food cafe, kathmandu, bagmati, nepal 24 hour electricity,hot and cold water,laundary,wifi,lock room,park lot,cctv,secur guard',\n",
       "  30: 'hostel time time boy hostel, especi for boys, provid facil and environment, that can get student involv in differ creativ and logic activities, which will lead to their come future. putalisadak, kathmandu, bagmati, nepal 24 hour electricity,hot and cold water,laundary,wifi,lock room,park lot,cctv,secur guard',\n",
       "  31: 'aayusha girl hostel aayusha girl hostel is place near chundevi temple, kathmandu where you can get 24 hour electr with free internet and wifi services, laundri facil as well as proper guidanc from the warden. kirtipur, bagmati, nepal 24 hour electricity,hot and cold water,laundary,wifi,lock room,park lot,secur guard,cctv',\n",
       "  32: 'namast girl hostel namast girl hostel aim in success of student goal as by advis and provid them the requir engag in particular field. it tri to fulfil almost all the requir facilities. nepal colleg of inform technology, balkumari, lalitpur, bagmati, nepal 24 hour electricity,hot and cold water,laundary,wifi,lock room,park lot,secur guard,cctv',\n",
       "  33: 'kanya chhatrabaa kanya chhatrabaa is for women who is look for hostel with home environment. it is locat at new baneshwor near mani colleg and institute. it ha facil like hygien food, 24 hour electricity, free laundri servic and mani more. pattern fusion lab, panchakumari marg, devkota sadak, kathmandu, bagmati, nepal 24 hour electricity,hot and cold water,laundary,wifi,lock room,park lot,secur guard,cctv',\n",
       "  34: 'surya binayak boy hostel surya binayak boy hostel, one of the known hostel in kathmandu, locat at bagbazar with a facil like 24 hour electricity, free wifi access, free laundri and other more. baghbazaar, kathmandu, bagmati, nepal 24 hour electricity,hot and cold water,laundary,wifi,lock room,park lot,secur guard,cctv,balcony/terrace,hal food',\n",
       "  35: 'panchakanya girl hostel panchakanya girl hostel, locat in minbhawan give it prioriti in serv student rather then earn money.it focu on hygien food, peac environ and entertainment. civil servic hospital, kathmandu, bagmati, nepal 24 hour electricity,hot and cold water,laundary,wifi,lock room,park lot,secur guard,cctv',\n",
       "  36: 'goodon boy hostel goodon boy hostel is locat at babarmahal. the locat is veri conveni for the students. thi hostel ha all kind of facil like free wi-fi, a locker room, hot water, and 24-hour electricity. babarmahal, kathmandu, bagmati, nepal 24 hour electricity,hot and cold water,laundary,wifi,lock room,park lot,secur guard,cctv',\n",
       "  37: 'srijana girl hostel srijana girl hostel situat in shankhamul, new baneshwor is a peaceful, clean, and home environ for the student. it emphas the develop of creativ thought through a peac environment. we are here for qualiti not quantiti and home ,friendli environment❣️. price : start from rs.10000 up to rs.12000. shankhamul, shankhamul, kathmandu, bagmati, nepal 24 hour electricity,hot and cold water,laundary,wifi,lock room,park lot,secur guard,cctv',\n",
       "  38: 'brighter futur girl hostel brighter futur girl hostel is one of the best hostel in baneshwor accord to both facil and monthli fees. thi hostel is serv student and offic worker veri well for a long time. the hostel is especi good for it prime location, overal environment, food & monthli fee. alok nagar marg, minbhawan, kathmandu, bagmati, nepal 24 hour electricity,hot and cold water,laundary,wifi,lock room,park lot,secur guard,cctv',\n",
       "  39: 'aayush boy hostel thi is hostel is locat at bhemsengola nearbi relianc residenti higher secondari school. hamila hostel open gare ko 12 year plu bhaie sako hami famili pani hostel mai basxau khana pani hamila jae khana ho hjr la pani tei khana ho shanta bata baran xa and khana ko lagi ra basna ko lagi hjr lai kei complain aaudaina. fresh zone, kathmandu, bagmati, nepal 24 hour electricity,hot and cold water,laundary,wifi,lock room,park lot,secur guard,cctv',\n",
       "  40: 'model boy hostel thi is hostel is locat at bhemsengola nearbi relianc residenti higher secondari school. hamila hostel open gare ko 12 year plu bhaie sako hami famili pani hostel mai basxau khana pani hamila jae khana ho hjr la pani tei khana ho shanta bata baran xa and khana ko lagi ra basna ko lagi hjr lai kei complain aaudaina. ace institut of management, sinamangal, kathmandu, bagmati, nepal 24 hour electricity,hot and cold water,laundary,wifi,lock room,secur guard,park lot,cctv',\n",
       "  41: 'best girl hostel be best girl hostel in town ever sinc 2 year in kathmandu citi we have been serv our guest with qualiti fooding, lodg and gym services. prices: 4 seater - rs. 9500, 3 seater - rs.10,500, 4 seater attach bathroom rs.10,000, 2 seater - 14,500. bhetghat restaurant, anamnagar, kathmandu, bagmati, nepal 24 hour electricity,hot and cold water,laundary,wifi,lock room,park lot,secur guard,cctv',\n",
       "  42: 'royal inn boy hostel we believ in comfort and satisfact by provid best servic to our customers. shilpe gothal theatre, battisputali, kathmandu, bagmati, nepal 24 hour electricity,hot and cold water,laundary,wifi,lock room,park lot,secur guard,cctv',\n",
       "  43: 'diamond boy hostel diamond boy hostel which is locat at buddhanagar, ha an object to firstli go on student\\\\ career through provid them the need environ and facilit them. ham hospital, buddhanagar, kathmandu, bagmati, nepal 24 hour electricity,hot and cold water,laundary,wifi,secur guard,park lot,lock room,cctv',\n",
       "  44: 'mahalaxmi girl hostel mahalaxmi hostel, locat at sinamangal, provid home environ to girl who come to kathmandu search for accomodations. we have made avail facil like 24hr free wifi, qualiti food, furnish room and mani more. sinamangal, kathmandu, bagmati, nepal 24 hour electricity,hot and cold water,laundary,wifi,lock room,park lot,secur guard,cctv',\n",
       "  45: 'mero girl hostel best girl hostel in the town. ham hospital, buddhanagar, kathmandu, bagmati, nepal 24 hour electricity,hot and cold water,laundary,wifi,lock room,park lot,secur guard,cctv',\n",
       "  46: 'kalash boy hostel best boy hostel in the town. samakhusi children park, samakhusi, kathmandu, bagmati, nepal 24 hour electricity,hot and cold water,laundary,wifi,lock room,park lot,secur guard,cctv',\n",
       "  47: 'elbru home the home lie near from tourist hub of thamel, galkopakha. the home offer neat and clean room includ a bathroom with a hot & cold shower for 24 hours. it ha a tast sunni room with a balconi and a beauti garden. it is within walk distanc of all tourist destin like tourist markets, airlines, travel agencies, restaurants, etc. it also ha it own travel desk to provid travel inform to tourists. all the guest can enjoy free breakfast dure their stay. monkey temple, kathmandu, bagmati, nepal 24 hour electricity,hot and cold water,laundary,wifi,lock room,park lot,cctv,secur guard',\n",
       "  48: 'mother care boy hostel mother care boy hostel is locat at the veri core area of kathmandu city. mother care boy hostel deliv a safe, secured, admir hospitable, and motherli environ for students. it may be the best choic for the student. ministri of finance, kathmandu, bagmati, nepal 24 hour electricity,hot and cold water,laundary,wifi,lock room,park lot,secur guard,cctv,balcony/terrac',\n",
       "  49: 'sanjibini boy hostel it is situat at the heart of the kathmandu valley. easi access to all rout vehicle.\\\\r\\\\nstud friendli environment.\\\\r\\\\nhigh secur to the student . \\\\r\\\\ngreat guidanc from the warden\\\\r\\\\nfacilitit for the tution and mani more\\\\r\\\\nchicken meal twice the week and special meal for the vegeterian mahadevsthan, kathmandu, bagmati, nepal 24 hour electricity,hot and cold water,laundary,wifi,lock room,park lot,cctv,secur guard,balcony/terrace,hal food ,no smoke'}}"
      ]
     },
     "execution_count": 127,
     "metadata": {},
     "output_type": "execute_result"
    }
   ],
   "source": [
    "new_df.to_dict()"
   ]
  },
  {
   "cell_type": "code",
   "execution_count": 128,
   "id": "e5ce2bf0",
   "metadata": {},
   "outputs": [],
   "source": [
    "pickle.dump(new_df.to_dict(),open('hostel_dict.pkl','wb'))"
   ]
  },
  {
   "cell_type": "code",
   "execution_count": 129,
   "id": "75e3bd78",
   "metadata": {},
   "outputs": [],
   "source": [
    "pickle.dump(combined_similarity,open('similarity.pkl','wb'))"
   ]
  },
  {
   "cell_type": "code",
   "execution_count": null,
   "id": "c7380e11",
   "metadata": {},
   "outputs": [],
   "source": []
  }
 ],
 "metadata": {
  "kernelspec": {
   "display_name": "Python 3 (ipykernel)",
   "language": "python",
   "name": "python3"
  },
  "language_info": {
   "codemirror_mode": {
    "name": "ipython",
    "version": 3
   },
   "file_extension": ".py",
   "mimetype": "text/x-python",
   "name": "python",
   "nbconvert_exporter": "python",
   "pygments_lexer": "ipython3",
   "version": "3.11.3"
  }
 },
 "nbformat": 4,
 "nbformat_minor": 5
}
